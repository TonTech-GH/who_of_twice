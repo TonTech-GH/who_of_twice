{
 "cells": [
  {
   "cell_type": "markdown",
   "id": "0af083e8-fde8-4724-a3a8-c83cc44d4b32",
   "metadata": {},
   "source": [
    "# 必要画像の収集\n",
    "- 画像検索でTwice各メンバーの画像を集める\n",
    "- icrawlerというパッケージを使う\n",
    "    - https://icrawler.readthedocs.io/en/latest/index.html"
   ]
  },
  {
   "cell_type": "code",
   "execution_count": 1,
   "id": "7c04fa96-7f3e-46dd-bd9b-bdb73b1b41de",
   "metadata": {},
   "outputs": [
    {
     "name": "stdout",
     "output_type": "stream",
     "text": [
      "Requirement already satisfied: icrawler in /opt/anaconda3/lib/python3.9/site-packages (0.6.6)\n",
      "Requirement already satisfied: beautifulsoup4>=4.4.1 in /opt/anaconda3/lib/python3.9/site-packages (from icrawler) (4.11.1)\n",
      "Requirement already satisfied: requests>=2.9.1 in /opt/anaconda3/lib/python3.9/site-packages (from icrawler) (2.28.1)\n",
      "Requirement already satisfied: lxml in /opt/anaconda3/lib/python3.9/site-packages (from icrawler) (4.9.1)\n",
      "Requirement already satisfied: Pillow in /opt/anaconda3/lib/python3.9/site-packages (from icrawler) (9.2.0)\n",
      "Requirement already satisfied: six>=1.10.0 in /opt/anaconda3/lib/python3.9/site-packages (from icrawler) (1.16.0)\n",
      "Requirement already satisfied: soupsieve>1.2 in /opt/anaconda3/lib/python3.9/site-packages (from beautifulsoup4>=4.4.1->icrawler) (2.3.1)\n",
      "Requirement already satisfied: certifi>=2017.4.17 in /opt/anaconda3/lib/python3.9/site-packages (from requests>=2.9.1->icrawler) (2022.9.14)\n",
      "Requirement already satisfied: idna<4,>=2.5 in /opt/anaconda3/lib/python3.9/site-packages (from requests>=2.9.1->icrawler) (3.3)\n",
      "Requirement already satisfied: charset-normalizer<3,>=2 in /opt/anaconda3/lib/python3.9/site-packages (from requests>=2.9.1->icrawler) (2.0.4)\n",
      "Requirement already satisfied: urllib3<1.27,>=1.21.1 in /opt/anaconda3/lib/python3.9/site-packages (from requests>=2.9.1->icrawler) (1.26.11)\n",
      "\u001b[33mWARNING: Running pip as the 'root' user can result in broken permissions and conflicting behaviour with the system package manager. It is recommended to use a virtual environment instead: https://pip.pypa.io/warnings/venv\u001b[0m\u001b[33m\n",
      "\u001b[0m"
     ]
    }
   ],
   "source": [
    "!pip install icrawler"
   ]
  },
  {
   "cell_type": "code",
   "execution_count": 3,
   "id": "9880daad-2651-42ce-add6-6b8c234b751e",
   "metadata": {},
   "outputs": [],
   "source": [
    "import logging\n",
    "import os\n",
    "\n",
    "import glob\n",
    "from icrawler.builtin import BingImageCrawler\n",
    "import pandas as pd\n",
    "import tqdm"
   ]
  },
  {
   "cell_type": "markdown",
   "id": "8d9e4192-1683-409c-8832-eb6d578e1131",
   "metadata": {},
   "source": [
    "## 定数定義"
   ]
  },
  {
   "cell_type": "code",
   "execution_count": 4,
   "id": "5b4311a1-8804-4a2b-8548-20756e54b357",
   "metadata": {},
   "outputs": [],
   "source": [
    "# 定数定義\n",
    "DL_IMAGE_NUM = 100\n",
    "ROOT_DIR = './images/train'\n",
    "\n",
    "class Conf:\n",
    "    def __init__(self, name, keyword):\n",
    "        self.name = name\n",
    "        self.keyword = keyword\n",
    "        \n",
    "    @property\n",
    "    def dir_name(self):\n",
    "        keyword = self.keyword.replace(' ', '_')\n",
    "        return f'{self.name}'\n",
    "\n",
    "CONFS = [\n",
    "    Conf('NAYEON', 'twice NAYEON'),\n",
    "    Conf('JEONGYEON', 'twice JEONGYEON'),\n",
    "    Conf('MOMO', 'twice MOMO'),\n",
    "    Conf('SANA', 'twice SANA'),\n",
    "    Conf('JIHYO', 'twice JIHYO'),\n",
    "    Conf('MINA', 'twice MINA'),\n",
    "    Conf('DAHYUN', 'twice DAHYUN'),\n",
    "    Conf('CHAEYOUNG', 'twice CHAEYOUNG'),\n",
    "    Conf('TZUYU', 'twice TZUYU'),\n",
    "]\n",
    "        "
   ]
  },
  {
   "cell_type": "markdown",
   "id": "2375d4a6-9ed0-4906-acf6-f9ab90ae0b01",
   "metadata": {},
   "source": [
    "## 画像DL"
   ]
  },
  {
   "cell_type": "code",
   "execution_count": 5,
   "id": "852f5b70-9bf8-46eb-a41d-2e6f15134e6f",
   "metadata": {},
   "outputs": [
    {
     "name": "stdout",
     "output_type": "stream",
     "text": [
      "============================== NAYEON ==============================\n"
     ]
    },
    {
     "name": "stderr",
     "output_type": "stream",
     "text": [
      "2023-02-06 09:07:09,755 - ERROR - downloader - Response status code 403, file https://preview.redd.it/hzqt1cqrp6z01.jpg\n",
      "2023-02-06 09:07:11,720 - ERROR - downloader - Response status code 403, file https://preview.redd.it/so4ema7vbzr01.jpg\n",
      "2023-02-06 09:07:14,378 - ERROR - downloader - Response status code 403, file https://preview.redd.it/oazex66par621.jpg\n",
      "2023-02-06 09:07:14,459 - ERROR - downloader - Response status code 403, file https://preview.redd.it/hf07l6ga07041.jpg\n"
     ]
    },
    {
     "name": "stdout",
     "output_type": "stream",
     "text": [
      "============================== JEONGYEON ==============================\n"
     ]
    },
    {
     "name": "stderr",
     "output_type": "stream",
     "text": [
      "2023-02-06 09:07:27,162 - ERROR - downloader - Response status code 403, file https://preview.redd.it/5rn6sw1t6o231.jpg\n",
      "2023-02-06 09:07:28,831 - ERROR - downloader - Response status code 403, file https://external-preview.redd.it/1L0aIjVZcaK2xHiTR4IFMwAhWaoYnEXSrsOhjkmE69k.jpg\n",
      "2023-02-06 09:07:30,035 - ERROR - downloader - Response status code 403, file https://preview.redd.it/7hrxb7zt65xz.jpg\n"
     ]
    },
    {
     "name": "stdout",
     "output_type": "stream",
     "text": [
      "============================== MOMO ==============================\n"
     ]
    },
    {
     "name": "stderr",
     "output_type": "stream",
     "text": [
      "2023-02-06 09:07:38,225 - ERROR - downloader - Response status code 403, file https://preview.redd.it/re1bxq8tws931.jpg\n",
      "2023-02-06 09:07:38,236 - ERROR - downloader - Response status code 403, file https://preview.redd.it/4tse9ez0ffb11.jpg\n",
      "2023-02-06 09:07:38,342 - ERROR - downloader - Response status code 403, file https://preview.redd.it/oah8rcmkp2221.jpg\n",
      "2023-02-06 09:07:39,092 - ERROR - downloader - Response status code 403, file https://preview.redd.it/eo3obvm65tby.jpg\n",
      "2023-02-06 09:07:39,181 - ERROR - downloader - Response status code 403, file https://external-preview.redd.it/DZDvLmITusRNV7mLz77p-exEyN188NOhOfSCmBOUxsI.jpg\n",
      "2023-02-06 09:07:39,568 - ERROR - downloader - Response status code 404, file https://vignette.wikia.nocookie.net/twice/images/4/41/Momo27.jpg\n",
      "2023-02-06 09:07:41,889 - ERROR - downloader - Response status code 403, file https://preview.redd.it/g41no1r4fz711.jpg\n",
      "2023-02-06 09:07:42,522 - ERROR - downloader - Response status code 403, file https://preview.redd.it/uvigyx5cbkj31.jpg\n",
      "2023-02-06 09:07:42,626 - ERROR - downloader - Response status code 403, file https://preview.redd.it/5qyh9tc4asd01.jpg\n",
      "2023-02-06 09:07:42,785 - ERROR - downloader - Response status code 403, file https://preview.redd.it/v0xzki8qf1g31.jpg\n",
      "2023-02-06 09:07:44,003 - ERROR - downloader - Response status code 404, file https://i2.wp.com/k-popmaniacs.com/wp-content/uploads/2018/07/momo090.jpg\n",
      "2023-02-06 09:07:49,112 - ERROR - downloader - Exception caught when downloading file https://i1.wp.com/danmee.jp/wp-content/uploads/2020/06/TWICEsab06101.jpg, error: HTTPSConnectionPool(host='i1.wp.com', port=443): Read timed out. (read timeout=5), remaining retry times: 2\n"
     ]
    },
    {
     "name": "stdout",
     "output_type": "stream",
     "text": [
      "============================== SANA ==============================\n"
     ]
    },
    {
     "name": "stderr",
     "output_type": "stream",
     "text": [
      "2023-02-06 09:07:56,705 - ERROR - downloader - Response status code 404, file https://vignette.wikia.nocookie.net/twice/images/2/23/BDZ_Sana_Promo.jpg\n",
      "2023-02-06 09:07:56,979 - ERROR - downloader - Response status code 404, file https://vignette.wikia.nocookie.net/twice/images/c/c4/Sana27.jpg\n",
      "2023-02-06 09:07:57,369 - ERROR - downloader - Response status code 403, file https://preview.redd.it/8x7htpp9ir231.jpg\n",
      "2023-02-06 09:07:57,460 - ERROR - downloader - Response status code 403, file https://preview.redd.it/cqtrdo9iv4g31.jpg\n",
      "2023-02-06 09:07:58,939 - ERROR - downloader - Response status code 403, file https://external-preview.redd.it/1TIwXKPyjy3gCKTawqpjw2tmnE-i3iuG2JH13Vu6nxs.jpg\n",
      "2023-02-06 09:08:00,605 - ERROR - downloader - Response status code 403, file https://preview.redd.it/wdhzawbmxx941.jpg\n",
      "2023-02-06 09:08:01,582 - ERROR - downloader - Response status code 403, file https://preview.redd.it/8bxcpnlysb531.jpg\n",
      "2023-02-06 09:08:01,813 - ERROR - downloader - Response status code 403, file https://preview.redd.it/0d1i3otn1w211.jpg\n",
      "2023-02-06 09:08:02,195 - ERROR - downloader - Exception caught when downloading file https://c.wallhere.com/photos/e2/c0/K_pop_Twice_Twice_Sana-1440949.jpg, error: HTTPSConnectionPool(host='c.wallhere.com', port=443): Read timed out. (read timeout=5), remaining retry times: 2\n",
      "2023-02-06 09:08:02,714 - ERROR - downloader - Response status code 403, file https://preview.redd.it/rxthkheli8q31.jpg\n",
      "2023-02-06 09:08:07,285 - ERROR - downloader - Exception caught when downloading file https://c.wallhere.com/photos/e2/c0/K_pop_Twice_Twice_Sana-1440949.jpg, error: HTTPSConnectionPool(host='c.wallhere.com', port=443): Read timed out. (read timeout=5), remaining retry times: 1\n",
      "2023-02-06 09:08:07,520 - ERROR - downloader - Response status code 403, file https://preview.redd.it/hed8dkhvc7v01.jpg\n",
      "2023-02-06 09:08:07,998 - ERROR - downloader - Exception caught when downloading file http://greepx.com/wp-content/uploads/2018/01/1516105385_926_twice-sana.jpg, error: HTTPSConnectionPool(host='greepx.com', port=443): Max retries exceeded with url: /wp-content/uploads/2018/01/1516105385_926_twice-sana.jpg (Caused by SSLError(SSLCertVerificationError(1, '[SSL: CERTIFICATE_VERIFY_FAILED] certificate verify failed: certificate has expired (_ssl.c:1129)'))), remaining retry times: 2\n",
      "2023-02-06 09:08:08,801 - ERROR - downloader - Exception caught when downloading file http://greepx.com/wp-content/uploads/2018/01/1516105385_926_twice-sana.jpg, error: HTTPSConnectionPool(host='greepx.com', port=443): Max retries exceeded with url: /wp-content/uploads/2018/01/1516105385_926_twice-sana.jpg (Caused by SSLError(SSLCertVerificationError(1, '[SSL: CERTIFICATE_VERIFY_FAILED] certificate verify failed: certificate has expired (_ssl.c:1129)'))), remaining retry times: 1\n",
      "2023-02-06 09:08:09,600 - ERROR - downloader - Exception caught when downloading file http://greepx.com/wp-content/uploads/2018/01/1516105385_926_twice-sana.jpg, error: HTTPSConnectionPool(host='greepx.com', port=443): Max retries exceeded with url: /wp-content/uploads/2018/01/1516105385_926_twice-sana.jpg (Caused by SSLError(SSLCertVerificationError(1, '[SSL: CERTIFICATE_VERIFY_FAILED] certificate verify failed: certificate has expired (_ssl.c:1129)'))), remaining retry times: 0\n",
      "2023-02-06 09:08:12,526 - ERROR - downloader - Exception caught when downloading file https://c.wallhere.com/photos/e2/c0/K_pop_Twice_Twice_Sana-1440949.jpg, error: HTTPSConnectionPool(host='c.wallhere.com', port=443): Read timed out. (read timeout=5), remaining retry times: 0\n"
     ]
    },
    {
     "name": "stdout",
     "output_type": "stream",
     "text": [
      "============================== JIHYO ==============================\n"
     ]
    },
    {
     "name": "stderr",
     "output_type": "stream",
     "text": [
      "2023-02-06 09:08:18,866 - ERROR - downloader - Response status code 403, file https://cdn.discordapp.com/attachments/138194941263216640/433376102480740354/DacN9I8UQAEcFaw.jpg\n",
      "2023-02-06 09:08:20,640 - ERROR - downloader - Response status code 403, file https://preview.redd.it/gjy834bcz0m01.jpg\n",
      "2023-02-06 09:08:25,166 - ERROR - downloader - Response status code 403, file https://preview.redd.it/6fmyebh8jwi51.jpg\n"
     ]
    },
    {
     "name": "stdout",
     "output_type": "stream",
     "text": [
      "============================== MINA ==============================\n"
     ]
    },
    {
     "name": "stderr",
     "output_type": "stream",
     "text": [
      "2023-02-06 09:08:34,790 - ERROR - downloader - Response status code 403, file https://preview.redd.it/9jstds98azw21.jpg\n",
      "2023-02-06 09:08:34,804 - ERROR - downloader - Response status code 403, file https://preview.redd.it/x7rg4r9hqlo21.jpg\n",
      "2023-02-06 09:08:35,536 - ERROR - downloader - Exception caught when downloading file http://greepx.com/wp-content/uploads/2018/01/1515748864_637_mina-twice.jpg, error: HTTPSConnectionPool(host='greepx.com', port=443): Max retries exceeded with url: /wp-content/uploads/2018/01/1515748864_637_mina-twice.jpg (Caused by SSLError(SSLCertVerificationError(1, '[SSL: CERTIFICATE_VERIFY_FAILED] certificate verify failed: certificate has expired (_ssl.c:1129)'))), remaining retry times: 2\n",
      "2023-02-06 09:08:36,576 - ERROR - downloader - Exception caught when downloading file http://greepx.com/wp-content/uploads/2018/01/1515748864_637_mina-twice.jpg, error: HTTPSConnectionPool(host='greepx.com', port=443): Max retries exceeded with url: /wp-content/uploads/2018/01/1515748864_637_mina-twice.jpg (Caused by SSLError(SSLCertVerificationError(1, '[SSL: CERTIFICATE_VERIFY_FAILED] certificate verify failed: certificate has expired (_ssl.c:1129)'))), remaining retry times: 1\n",
      "2023-02-06 09:08:37,423 - ERROR - downloader - Exception caught when downloading file http://greepx.com/wp-content/uploads/2018/01/1515748864_637_mina-twice.jpg, error: HTTPSConnectionPool(host='greepx.com', port=443): Max retries exceeded with url: /wp-content/uploads/2018/01/1515748864_637_mina-twice.jpg (Caused by SSLError(SSLCertVerificationError(1, '[SSL: CERTIFICATE_VERIFY_FAILED] certificate verify failed: certificate has expired (_ssl.c:1129)'))), remaining retry times: 0\n",
      "2023-02-06 09:08:38,246 - ERROR - downloader - Response status code 403, file https://www.labelkpop.com/wp-content/uploads/2020/02/twice-mina-16a.jpg\n",
      "2023-02-06 09:08:41,405 - ERROR - downloader - Response status code 404, file https://k-popmaniacs.com/wp-content/uploads/2018/07/mina005.jpg\n",
      "2023-02-06 09:08:42,368 - ERROR - downloader - Exception caught when downloading file https://greepx.com/wp-content/uploads/2018/01/1516102986_861_twice-mina.jpg, error: HTTPSConnectionPool(host='greepx.com', port=443): Max retries exceeded with url: /wp-content/uploads/2018/01/1516102986_861_twice-mina.jpg (Caused by SSLError(SSLCertVerificationError(1, '[SSL: CERTIFICATE_VERIFY_FAILED] certificate verify failed: certificate has expired (_ssl.c:1129)'))), remaining retry times: 2\n",
      "2023-02-06 09:08:42,961 - ERROR - downloader - Exception caught when downloading file https://greepx.com/wp-content/uploads/2018/01/1516102986_861_twice-mina.jpg, error: HTTPSConnectionPool(host='greepx.com', port=443): Max retries exceeded with url: /wp-content/uploads/2018/01/1516102986_861_twice-mina.jpg (Caused by SSLError(SSLCertVerificationError(1, '[SSL: CERTIFICATE_VERIFY_FAILED] certificate verify failed: certificate has expired (_ssl.c:1129)'))), remaining retry times: 1\n",
      "2023-02-06 09:08:43,517 - ERROR - downloader - Exception caught when downloading file https://greepx.com/wp-content/uploads/2018/01/1516102986_861_twice-mina.jpg, error: HTTPSConnectionPool(host='greepx.com', port=443): Max retries exceeded with url: /wp-content/uploads/2018/01/1516102986_861_twice-mina.jpg (Caused by SSLError(SSLCertVerificationError(1, '[SSL: CERTIFICATE_VERIFY_FAILED] certificate verify failed: certificate has expired (_ssl.c:1129)'))), remaining retry times: 0\n"
     ]
    },
    {
     "name": "stdout",
     "output_type": "stream",
     "text": [
      "============================== DAHYUN ==============================\n"
     ]
    },
    {
     "name": "stderr",
     "output_type": "stream",
     "text": [
      "2023-02-06 09:08:54,762 - ERROR - downloader - Response status code 403, file https://external-preview.redd.it/lX4CrndF-2MZCXAauDVJP6tCAVBg_KYxKjFeJFFCJjA.jpg\n"
     ]
    },
    {
     "name": "stdout",
     "output_type": "stream",
     "text": [
      "============================== CHAEYOUNG ==============================\n"
     ]
    },
    {
     "name": "stderr",
     "output_type": "stream",
     "text": [
      "2023-02-06 09:09:07,743 - ERROR - downloader - Response status code 404, file https://vignette.wikia.nocookie.net/twice/images/f/fd/Son_Chae_Young28.jpg\n",
      "2023-02-06 09:09:07,843 - ERROR - downloader - Response status code 403, file https://external-preview.redd.it/ki2-5RIb9bHmKKMqPKtwJMK5lZmDmZA_m_vpbybaY8s.jpg\n",
      "2023-02-06 09:09:07,936 - ERROR - downloader - Response status code 403, file https://preview.redd.it/vx03xbhhmw501.jpg\n",
      "2023-02-06 09:09:08,870 - ERROR - downloader - Response status code 404, file https://vignette.wikia.nocookie.net/twice/images/a/ae/Son_Chae_Young27.jpg\n",
      "2023-02-06 09:09:09,463 - ERROR - downloader - Response status code 403, file https://external-preview.redd.it/RTlafeHO1M1w43Lv76FiQxCbP7rpVosgBowHEEJm-xM.jpg\n",
      "2023-02-06 09:09:13,762 - ERROR - downloader - Response status code 403, file https://external-preview.redd.it/CVwII90XD7X_INsx66O0txl185OoQErlXydDRGVvrFI.jpg\n",
      "2023-02-06 09:09:14,604 - ERROR - downloader - Exception caught when downloading file https://get.wallhere.com/photo/Asian-K-pop-women-twice-chaeyoung-1569359.jpg, error: HTTPSConnectionPool(host='get.wallhere.com', port=443): Read timed out. (read timeout=5), remaining retry times: 2\n",
      "2023-02-06 09:09:19,682 - ERROR - downloader - Exception caught when downloading file https://get.wallhere.com/photo/Asian-K-pop-women-twice-chaeyoung-1569359.jpg, error: HTTPSConnectionPool(host='get.wallhere.com', port=443): Read timed out. (read timeout=5), remaining retry times: 1\n",
      "2023-02-06 09:09:24,735 - ERROR - downloader - Exception caught when downloading file https://get.wallhere.com/photo/Asian-K-pop-women-twice-chaeyoung-1569359.jpg, error: HTTPSConnectionPool(host='get.wallhere.com', port=443): Read timed out. (read timeout=5), remaining retry times: 0\n"
     ]
    },
    {
     "name": "stdout",
     "output_type": "stream",
     "text": [
      "============================== TZUYU ==============================\n"
     ]
    },
    {
     "name": "stderr",
     "output_type": "stream",
     "text": [
      "2023-02-06 09:09:31,236 - ERROR - downloader - Response status code 403, file https://preview.redd.it/chdgqk7za7h11.jpg\n",
      "2023-02-06 09:09:31,566 - ERROR - downloader - Response status code 404, file https://vignette.wikia.nocookie.net/twice/images/8/87/Tzuyu28.jpg\n",
      "2023-02-06 09:09:34,321 - ERROR - downloader - Response status code 404, file https://vignette.wikia.nocookie.net/drama/images/1/1c/Tzuyu10.jpg\n",
      "2023-02-06 09:09:36,739 - ERROR - downloader - Response status code 404, file https://i.redd.it/25xelsvi83c21.jpg\n",
      "2023-02-06 09:09:39,162 - ERROR - downloader - Response status code 403, file https://preview.redd.it/m4azotjbdxt01.jpg\n",
      "2023-02-06 09:09:40,418 - ERROR - downloader - Response status code 403, file https://external-preview.redd.it/45LwyASeZzH4UfgvcHrzHY6PycaWGX-d7XHeCf4JJig.jpg\n"
     ]
    },
    {
     "name": "stdout",
     "output_type": "stream",
     "text": [
      "===== finished!! =====\n"
     ]
    }
   ],
   "source": [
    "for idx, conf in enumerate(CONFS):\n",
    "    print('='*30 + f' {conf.name} ' + '='*30)\n",
    "    crowler = BingImageCrawler(\n",
    "        downloader_threads=4,\n",
    "        storage={'root_dir': f'{ROOT_DIR}/{conf.dir_name}'},\n",
    "        log_level=logging.ERROR\n",
    "    )\n",
    "    \n",
    "    crowler.crawl(\n",
    "        keyword=conf.keyword,\n",
    "        max_num=DL_IMAGE_NUM\n",
    "    )\n",
    "    \n",
    "print('===== finished!! =====')"
   ]
  },
  {
   "cell_type": "markdown",
   "id": "378df28b-748d-4f6c-a949-8039cb1a889e",
   "metadata": {},
   "source": [
    "## DLした画像の枚数"
   ]
  },
  {
   "cell_type": "code",
   "execution_count": 27,
   "id": "1d0a3b7c-f2e7-407a-a67a-e9562b6643d8",
   "metadata": {},
   "outputs": [
    {
     "data": {
      "text/html": [
       "<div>\n",
       "<style scoped>\n",
       "    .dataframe tbody tr th:only-of-type {\n",
       "        vertical-align: middle;\n",
       "    }\n",
       "\n",
       "    .dataframe tbody tr th {\n",
       "        vertical-align: top;\n",
       "    }\n",
       "\n",
       "    .dataframe thead th {\n",
       "        text-align: right;\n",
       "    }\n",
       "</style>\n",
       "<table border=\"1\" class=\"dataframe\">\n",
       "  <thead>\n",
       "    <tr style=\"text-align: right;\">\n",
       "      <th></th>\n",
       "      <th>image</th>\n",
       "    </tr>\n",
       "    <tr>\n",
       "      <th>name</th>\n",
       "      <th></th>\n",
       "    </tr>\n",
       "  </thead>\n",
       "  <tbody>\n",
       "    <tr>\n",
       "      <th>CHAEYOUNG</th>\n",
       "      <td>66</td>\n",
       "    </tr>\n",
       "    <tr>\n",
       "      <th>DAHYUN</th>\n",
       "      <td>70</td>\n",
       "    </tr>\n",
       "    <tr>\n",
       "      <th>JEONGYEON</th>\n",
       "      <td>61</td>\n",
       "    </tr>\n",
       "    <tr>\n",
       "      <th>JIHYO</th>\n",
       "      <td>70</td>\n",
       "    </tr>\n",
       "    <tr>\n",
       "      <th>MINA</th>\n",
       "      <td>70</td>\n",
       "    </tr>\n",
       "    <tr>\n",
       "      <th>MOMO</th>\n",
       "      <td>82</td>\n",
       "    </tr>\n",
       "    <tr>\n",
       "      <th>NAYEON</th>\n",
       "      <td>70</td>\n",
       "    </tr>\n",
       "    <tr>\n",
       "      <th>SANA</th>\n",
       "      <td>72</td>\n",
       "    </tr>\n",
       "    <tr>\n",
       "      <th>TZUYU</th>\n",
       "      <td>65</td>\n",
       "    </tr>\n",
       "  </tbody>\n",
       "</table>\n",
       "</div>"
      ],
      "text/plain": [
       "           image\n",
       "name            \n",
       "CHAEYOUNG     66\n",
       "DAHYUN        70\n",
       "JEONGYEON     61\n",
       "JIHYO         70\n",
       "MINA          70\n",
       "MOMO          82\n",
       "NAYEON        70\n",
       "SANA          72\n",
       "TZUYU         65"
      ]
     },
     "metadata": {},
     "output_type": "display_data"
    }
   ],
   "source": [
    "def images_df(root_dir):\n",
    "    images = glob.glob(f'{root_dir}/**/*', recursive=True)\n",
    "    images = [img for img in images if os.path.isfile(img)]\n",
    "    names = [os.path.basename(os.path.dirname(img)) for img in images]\n",
    "    fnames = [os.path.basename(img) for img in images]\n",
    "    df = pd.DataFrame({'name': names, 'image': fnames, 'path': images})\n",
    "    return df\n",
    "\n",
    "def count_images(root_dir):\n",
    "    df = images_df(root_dir).drop('path', axis=1)\n",
    "    display(df.groupby('name').count())\n",
    "\n",
    "count_images(ROOT_DIR)"
   ]
  },
  {
   "cell_type": "markdown",
   "id": "239498df-52e0-43f7-9ed6-050cea72097d",
   "metadata": {},
   "source": [
    "## DLした画像を学習用と検証用にわける"
   ]
  },
  {
   "cell_type": "code",
   "execution_count": 28,
   "id": "67d75d87-5fa5-4b69-a7f0-fd9a78006044",
   "metadata": {},
   "outputs": [],
   "source": [
    "import shutil\n",
    "from sklearn.model_selection import train_test_split"
   ]
  },
  {
   "cell_type": "code",
   "execution_count": 30,
   "id": "20580d25-9682-48e6-aa26-4734a163fef0",
   "metadata": {},
   "outputs": [
    {
     "name": "stdout",
     "output_type": "stream",
     "text": [
      "626\n"
     ]
    },
    {
     "data": {
      "text/html": [
       "<div>\n",
       "<style scoped>\n",
       "    .dataframe tbody tr th:only-of-type {\n",
       "        vertical-align: middle;\n",
       "    }\n",
       "\n",
       "    .dataframe tbody tr th {\n",
       "        vertical-align: top;\n",
       "    }\n",
       "\n",
       "    .dataframe thead th {\n",
       "        text-align: right;\n",
       "    }\n",
       "</style>\n",
       "<table border=\"1\" class=\"dataframe\">\n",
       "  <thead>\n",
       "    <tr style=\"text-align: right;\">\n",
       "      <th></th>\n",
       "      <th>name</th>\n",
       "      <th>image</th>\n",
       "      <th>path</th>\n",
       "    </tr>\n",
       "  </thead>\n",
       "  <tbody>\n",
       "    <tr>\n",
       "      <th>0</th>\n",
       "      <td>CHAEYOUNG</td>\n",
       "      <td>000001.jpg</td>\n",
       "      <td>./images/train/CHAEYOUNG/000001.jpg</td>\n",
       "    </tr>\n",
       "    <tr>\n",
       "      <th>1</th>\n",
       "      <td>CHAEYOUNG</td>\n",
       "      <td>000002.jpg</td>\n",
       "      <td>./images/train/CHAEYOUNG/000002.jpg</td>\n",
       "    </tr>\n",
       "    <tr>\n",
       "      <th>2</th>\n",
       "      <td>CHAEYOUNG</td>\n",
       "      <td>000003.jpg</td>\n",
       "      <td>./images/train/CHAEYOUNG/000003.jpg</td>\n",
       "    </tr>\n",
       "    <tr>\n",
       "      <th>3</th>\n",
       "      <td>CHAEYOUNG</td>\n",
       "      <td>000004.jpg</td>\n",
       "      <td>./images/train/CHAEYOUNG/000004.jpg</td>\n",
       "    </tr>\n",
       "    <tr>\n",
       "      <th>4</th>\n",
       "      <td>CHAEYOUNG</td>\n",
       "      <td>000005.jpg</td>\n",
       "      <td>./images/train/CHAEYOUNG/000005.jpg</td>\n",
       "    </tr>\n",
       "  </tbody>\n",
       "</table>\n",
       "</div>"
      ],
      "text/plain": [
       "        name       image                                 path\n",
       "0  CHAEYOUNG  000001.jpg  ./images/train/CHAEYOUNG/000001.jpg\n",
       "1  CHAEYOUNG  000002.jpg  ./images/train/CHAEYOUNG/000002.jpg\n",
       "2  CHAEYOUNG  000003.jpg  ./images/train/CHAEYOUNG/000003.jpg\n",
       "3  CHAEYOUNG  000004.jpg  ./images/train/CHAEYOUNG/000004.jpg\n",
       "4  CHAEYOUNG  000005.jpg  ./images/train/CHAEYOUNG/000005.jpg"
      ]
     },
     "execution_count": 30,
     "metadata": {},
     "output_type": "execute_result"
    }
   ],
   "source": [
    "df = images_df(ROOT_DIR)\n",
    "print(len(df))\n",
    "df.head()"
   ]
  },
  {
   "cell_type": "code",
   "execution_count": 31,
   "id": "2f63cae3-f2d6-42e9-b5c9-db90539cc66c",
   "metadata": {},
   "outputs": [
    {
     "name": "stdout",
     "output_type": "stream",
     "text": [
      "(500,) (126,)\n",
      "(500,) (126,)\n"
     ]
    }
   ],
   "source": [
    "path_train, path_test, name_train, name_test = train_test_split(df['path'], df['name'], test_size=.2, stratify=df['name'], random_state=0)\n",
    "\n",
    "print(path_train.shape, path_test.shape)\n",
    "print(name_train.shape, name_test.shape)"
   ]
  },
  {
   "cell_type": "code",
   "execution_count": 33,
   "id": "1f60ff32-1454-4e05-9e29-703141c8047c",
   "metadata": {},
   "outputs": [],
   "source": [
    "for src in path_test:\n",
    "    dst = src.replace('/train/', '/valid/')\n",
    "    os.makedirs(os.path.dirname(dst), exist_ok=True)\n",
    "    shutil.move(src, dst)"
   ]
  },
  {
   "cell_type": "code",
   "execution_count": 34,
   "id": "c179de25-7d10-4302-8743-8e04bf67b026",
   "metadata": {},
   "outputs": [
    {
     "data": {
      "text/html": [
       "<div>\n",
       "<style scoped>\n",
       "    .dataframe tbody tr th:only-of-type {\n",
       "        vertical-align: middle;\n",
       "    }\n",
       "\n",
       "    .dataframe tbody tr th {\n",
       "        vertical-align: top;\n",
       "    }\n",
       "\n",
       "    .dataframe thead th {\n",
       "        text-align: right;\n",
       "    }\n",
       "</style>\n",
       "<table border=\"1\" class=\"dataframe\">\n",
       "  <thead>\n",
       "    <tr style=\"text-align: right;\">\n",
       "      <th></th>\n",
       "      <th>image</th>\n",
       "    </tr>\n",
       "    <tr>\n",
       "      <th>name</th>\n",
       "      <th></th>\n",
       "    </tr>\n",
       "  </thead>\n",
       "  <tbody>\n",
       "    <tr>\n",
       "      <th>CHAEYOUNG</th>\n",
       "      <td>53</td>\n",
       "    </tr>\n",
       "    <tr>\n",
       "      <th>DAHYUN</th>\n",
       "      <td>56</td>\n",
       "    </tr>\n",
       "    <tr>\n",
       "      <th>JEONGYEON</th>\n",
       "      <td>49</td>\n",
       "    </tr>\n",
       "    <tr>\n",
       "      <th>JIHYO</th>\n",
       "      <td>56</td>\n",
       "    </tr>\n",
       "    <tr>\n",
       "      <th>MINA</th>\n",
       "      <td>56</td>\n",
       "    </tr>\n",
       "    <tr>\n",
       "      <th>MOMO</th>\n",
       "      <td>65</td>\n",
       "    </tr>\n",
       "    <tr>\n",
       "      <th>NAYEON</th>\n",
       "      <td>56</td>\n",
       "    </tr>\n",
       "    <tr>\n",
       "      <th>SANA</th>\n",
       "      <td>57</td>\n",
       "    </tr>\n",
       "    <tr>\n",
       "      <th>TZUYU</th>\n",
       "      <td>52</td>\n",
       "    </tr>\n",
       "  </tbody>\n",
       "</table>\n",
       "</div>"
      ],
      "text/plain": [
       "           image\n",
       "name            \n",
       "CHAEYOUNG     53\n",
       "DAHYUN        56\n",
       "JEONGYEON     49\n",
       "JIHYO         56\n",
       "MINA          56\n",
       "MOMO          65\n",
       "NAYEON        56\n",
       "SANA          57\n",
       "TZUYU         52"
      ]
     },
     "metadata": {},
     "output_type": "display_data"
    }
   ],
   "source": [
    "count_images(ROOT_DIR)"
   ]
  },
  {
   "cell_type": "code",
   "execution_count": 35,
   "id": "51bcf79f-8933-41f5-8b80-0c3e018dbaf1",
   "metadata": {},
   "outputs": [
    {
     "data": {
      "text/html": [
       "<div>\n",
       "<style scoped>\n",
       "    .dataframe tbody tr th:only-of-type {\n",
       "        vertical-align: middle;\n",
       "    }\n",
       "\n",
       "    .dataframe tbody tr th {\n",
       "        vertical-align: top;\n",
       "    }\n",
       "\n",
       "    .dataframe thead th {\n",
       "        text-align: right;\n",
       "    }\n",
       "</style>\n",
       "<table border=\"1\" class=\"dataframe\">\n",
       "  <thead>\n",
       "    <tr style=\"text-align: right;\">\n",
       "      <th></th>\n",
       "      <th>image</th>\n",
       "    </tr>\n",
       "    <tr>\n",
       "      <th>name</th>\n",
       "      <th></th>\n",
       "    </tr>\n",
       "  </thead>\n",
       "  <tbody>\n",
       "    <tr>\n",
       "      <th>CHAEYOUNG</th>\n",
       "      <td>13</td>\n",
       "    </tr>\n",
       "    <tr>\n",
       "      <th>DAHYUN</th>\n",
       "      <td>14</td>\n",
       "    </tr>\n",
       "    <tr>\n",
       "      <th>JEONGYEON</th>\n",
       "      <td>12</td>\n",
       "    </tr>\n",
       "    <tr>\n",
       "      <th>JIHYO</th>\n",
       "      <td>14</td>\n",
       "    </tr>\n",
       "    <tr>\n",
       "      <th>MINA</th>\n",
       "      <td>14</td>\n",
       "    </tr>\n",
       "    <tr>\n",
       "      <th>MOMO</th>\n",
       "      <td>17</td>\n",
       "    </tr>\n",
       "    <tr>\n",
       "      <th>NAYEON</th>\n",
       "      <td>14</td>\n",
       "    </tr>\n",
       "    <tr>\n",
       "      <th>SANA</th>\n",
       "      <td>15</td>\n",
       "    </tr>\n",
       "    <tr>\n",
       "      <th>TZUYU</th>\n",
       "      <td>13</td>\n",
       "    </tr>\n",
       "  </tbody>\n",
       "</table>\n",
       "</div>"
      ],
      "text/plain": [
       "           image\n",
       "name            \n",
       "CHAEYOUNG     13\n",
       "DAHYUN        14\n",
       "JEONGYEON     12\n",
       "JIHYO         14\n",
       "MINA          14\n",
       "MOMO          17\n",
       "NAYEON        14\n",
       "SANA          15\n",
       "TZUYU         13"
      ]
     },
     "metadata": {},
     "output_type": "display_data"
    }
   ],
   "source": [
    "count_images('./images/valid')"
   ]
  },
  {
   "cell_type": "code",
   "execution_count": null,
   "id": "d71d4b4c-ff08-40c4-a51e-e2a1b962e253",
   "metadata": {},
   "outputs": [],
   "source": []
  }
 ],
 "metadata": {
  "kernelspec": {
   "display_name": "Python 3 (ipykernel)",
   "language": "python",
   "name": "python3"
  },
  "language_info": {
   "codemirror_mode": {
    "name": "ipython",
    "version": 3
   },
   "file_extension": ".py",
   "mimetype": "text/x-python",
   "name": "python",
   "nbconvert_exporter": "python",
   "pygments_lexer": "ipython3",
   "version": "3.9.13"
  }
 },
 "nbformat": 4,
 "nbformat_minor": 5
}
