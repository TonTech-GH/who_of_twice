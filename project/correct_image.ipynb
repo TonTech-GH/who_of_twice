{
 "cells": [
  {
   "cell_type": "markdown",
   "id": "0af083e8-fde8-4724-a3a8-c83cc44d4b32",
   "metadata": {},
   "source": [
    "# 必要画像の収集\n",
    "- 画像検索でTwice各メンバーの画像を集める\n",
    "- icrawlerというパッケージを使う\n",
    "    - https://icrawler.readthedocs.io/en/latest/index.html"
   ]
  },
  {
   "cell_type": "code",
   "execution_count": 1,
   "id": "7c04fa96-7f3e-46dd-bd9b-bdb73b1b41de",
   "metadata": {},
   "outputs": [
    {
     "name": "stdout",
     "output_type": "stream",
     "text": [
      "Requirement already satisfied: icrawler in /opt/anaconda3/lib/python3.9/site-packages (0.6.6)\n",
      "Requirement already satisfied: beautifulsoup4>=4.4.1 in /opt/anaconda3/lib/python3.9/site-packages (from icrawler) (4.11.1)\n",
      "Requirement already satisfied: requests>=2.9.1 in /opt/anaconda3/lib/python3.9/site-packages (from icrawler) (2.28.1)\n",
      "Requirement already satisfied: lxml in /opt/anaconda3/lib/python3.9/site-packages (from icrawler) (4.9.1)\n",
      "Requirement already satisfied: Pillow in /opt/anaconda3/lib/python3.9/site-packages (from icrawler) (9.2.0)\n",
      "Requirement already satisfied: six>=1.10.0 in /opt/anaconda3/lib/python3.9/site-packages (from icrawler) (1.16.0)\n",
      "Requirement already satisfied: soupsieve>1.2 in /opt/anaconda3/lib/python3.9/site-packages (from beautifulsoup4>=4.4.1->icrawler) (2.3.1)\n",
      "Requirement already satisfied: certifi>=2017.4.17 in /opt/anaconda3/lib/python3.9/site-packages (from requests>=2.9.1->icrawler) (2022.9.14)\n",
      "Requirement already satisfied: idna<4,>=2.5 in /opt/anaconda3/lib/python3.9/site-packages (from requests>=2.9.1->icrawler) (3.3)\n",
      "Requirement already satisfied: charset-normalizer<3,>=2 in /opt/anaconda3/lib/python3.9/site-packages (from requests>=2.9.1->icrawler) (2.0.4)\n",
      "Requirement already satisfied: urllib3<1.27,>=1.21.1 in /opt/anaconda3/lib/python3.9/site-packages (from requests>=2.9.1->icrawler) (1.26.11)\n",
      "\u001b[33mWARNING: Running pip as the 'root' user can result in broken permissions and conflicting behaviour with the system package manager. It is recommended to use a virtual environment instead: https://pip.pypa.io/warnings/venv\u001b[0m\u001b[33m\n",
      "\u001b[0m"
     ]
    }
   ],
   "source": [
    "!pip install icrawler"
   ]
  },
  {
   "cell_type": "code",
   "execution_count": 8,
   "id": "9880daad-2651-42ce-add6-6b8c234b751e",
   "metadata": {},
   "outputs": [],
   "source": [
    "import logging\n",
    "import os\n",
    "\n",
    "import glob\n",
    "from icrawler.builtin import BingImageCrawler\n",
    "import pandas as pd\n",
    "import tqdm"
   ]
  },
  {
   "cell_type": "markdown",
   "id": "8d9e4192-1683-409c-8832-eb6d578e1131",
   "metadata": {},
   "source": [
    "## 定数定義"
   ]
  },
  {
   "cell_type": "code",
   "execution_count": 7,
   "id": "5b4311a1-8804-4a2b-8548-20756e54b357",
   "metadata": {},
   "outputs": [],
   "source": [
    "# 定数定義\n",
    "DL_IMAGE_NUM = 100\n",
    "ROOT_DIR = './images'\n",
    "\n",
    "class Conf:\n",
    "    def __init__(self, name, keyword):\n",
    "        self.name = name\n",
    "        self.keyword = keyword\n",
    "        \n",
    "    @property\n",
    "    def dir_name(self):\n",
    "        keyword = self.keyword.replace(' ', '_')\n",
    "        return f'{self.name}'\n",
    "\n",
    "CONFS = [\n",
    "    Conf('NAYEON', 'twice NAYEON'),\n",
    "    Conf('JEONGYEON', 'twice JEONGYEON'),\n",
    "    Conf('MOMO', 'twice MOMO'),\n",
    "    Conf('SANA', 'twice SANA'),\n",
    "    Conf('JIHYO', 'twice JIHYO'),\n",
    "    Conf('MINA', 'twice MINA'),\n",
    "    Conf('DAHYUN', 'twice DAHYUN'),\n",
    "    Conf('CHAEYOUNG', 'twice CHAEYOUNG'),\n",
    "    Conf('TZUYU', 'twice TZUYU'),\n",
    "]\n",
    "        "
   ]
  },
  {
   "cell_type": "markdown",
   "id": "2375d4a6-9ed0-4906-acf6-f9ab90ae0b01",
   "metadata": {},
   "source": [
    "## 画像DL"
   ]
  },
  {
   "cell_type": "code",
   "execution_count": 5,
   "id": "852f5b70-9bf8-46eb-a41d-2e6f15134e6f",
   "metadata": {},
   "outputs": [
    {
     "name": "stdout",
     "output_type": "stream",
     "text": [
      "============================== NAYEON ==============================\n"
     ]
    },
    {
     "name": "stderr",
     "output_type": "stream",
     "text": [
      "2023-02-04 12:39:48,562 - ERROR - downloader - Response status code 403, file https://preview.redd.it/so4ema7vbzr01.jpg\n",
      "2023-02-04 12:39:51,814 - ERROR - downloader - Response status code 403, file https://preview.redd.it/ouy55wfm1sx31.jpg\n"
     ]
    },
    {
     "name": "stdout",
     "output_type": "stream",
     "text": [
      "============================== JEONGYEON ==============================\n"
     ]
    },
    {
     "name": "stderr",
     "output_type": "stream",
     "text": [
      "2023-02-04 12:40:04,002 - ERROR - downloader - Response status code 403, file https://external-preview.redd.it/1L0aIjVZcaK2xHiTR4IFMwAhWaoYnEXSrsOhjkmE69k.jpg\n",
      "2023-02-04 12:40:04,377 - ERROR - downloader - Response status code 403, file https://preview.redd.it/5rn6sw1t6o231.jpg\n"
     ]
    },
    {
     "name": "stdout",
     "output_type": "stream",
     "text": [
      "============================== MOMO ==============================\n"
     ]
    },
    {
     "name": "stderr",
     "output_type": "stream",
     "text": [
      "2023-02-04 12:40:15,604 - ERROR - downloader - Response status code 403, file https://external-preview.redd.it/DZDvLmITusRNV7mLz77p-exEyN188NOhOfSCmBOUxsI.jpg\n",
      "2023-02-04 12:40:15,624 - ERROR - downloader - Response status code 404, file https://vignette.wikia.nocookie.net/twice/images/4/41/Momo27.jpg\n",
      "2023-02-04 12:40:15,685 - ERROR - downloader - Response status code 403, file https://external-preview.redd.it/UMGyjPCtPukZJEJD2PHkbx-17HMS_iCkn9jZvSZRkbk.jpg\n"
     ]
    },
    {
     "name": "stdout",
     "output_type": "stream",
     "text": [
      "============================== SANA ==============================\n"
     ]
    },
    {
     "name": "stderr",
     "output_type": "stream",
     "text": [
      "2023-02-04 12:40:27,511 - ERROR - downloader - Response status code 404, file https://vignette.wikia.nocookie.net/twice/images/2/23/BDZ_Sana_Promo.jpg\n",
      "2023-02-04 12:40:28,292 - ERROR - downloader - Response status code 404, file https://vignette.wikia.nocookie.net/twice/images/c/c4/Sana27.jpg\n",
      "2023-02-04 12:40:29,736 - ERROR - downloader - Response status code 403, file https://preview.redd.it/8x7htpp9ir231.jpg\n",
      "2023-02-04 12:40:30,410 - ERROR - downloader - Response status code 403, file https://external-preview.redd.it/1TIwXKPyjy3gCKTawqpjw2tmnE-i3iuG2JH13Vu6nxs.jpg\n",
      "2023-02-04 12:40:30,452 - ERROR - downloader - Response status code 403, file https://c.wallhere.com/photos/e2/c0/K_pop_Twice_Twice_Sana-1440949.jpg\n",
      "2023-02-04 12:40:31,957 - ERROR - downloader - Response status code 403, file https://preview.redd.it/0d1i3otn1w211.jpg\n",
      "2023-02-04 12:40:33,037 - ERROR - downloader - Exception caught when downloading file http://greepx.com/wp-content/uploads/2018/01/1516105384_477_twice-sana.jpg, error: HTTPSConnectionPool(host='greepx.com', port=443): Max retries exceeded with url: /wp-content/uploads/2018/01/1516105384_477_twice-sana.jpg (Caused by SSLError(SSLCertVerificationError(1, '[SSL: CERTIFICATE_VERIFY_FAILED] certificate verify failed: certificate has expired (_ssl.c:1129)'))), remaining retry times: 2\n",
      "2023-02-04 12:40:33,847 - ERROR - downloader - Response status code 403, file https://external-preview.redd.it/qMXxzhxKpxZxA_A3MCLNwTIDbXSNc2pqlRHo5iyqVsE.jpg\n",
      "2023-02-04 12:40:33,876 - ERROR - downloader - Exception caught when downloading file http://greepx.com/wp-content/uploads/2018/01/1516105384_477_twice-sana.jpg, error: HTTPSConnectionPool(host='greepx.com', port=443): Max retries exceeded with url: /wp-content/uploads/2018/01/1516105384_477_twice-sana.jpg (Caused by SSLError(SSLCertVerificationError(1, '[SSL: CERTIFICATE_VERIFY_FAILED] certificate verify failed: certificate has expired (_ssl.c:1129)'))), remaining retry times: 1\n",
      "2023-02-04 12:40:34,801 - ERROR - downloader - Exception caught when downloading file http://greepx.com/wp-content/uploads/2018/01/1516105384_477_twice-sana.jpg, error: HTTPSConnectionPool(host='greepx.com', port=443): Max retries exceeded with url: /wp-content/uploads/2018/01/1516105384_477_twice-sana.jpg (Caused by SSLError(SSLCertVerificationError(1, '[SSL: CERTIFICATE_VERIFY_FAILED] certificate verify failed: certificate has expired (_ssl.c:1129)'))), remaining retry times: 0\n"
     ]
    },
    {
     "name": "stdout",
     "output_type": "stream",
     "text": [
      "============================== JIHYO ==============================\n"
     ]
    },
    {
     "name": "stderr",
     "output_type": "stream",
     "text": [
      "2023-02-04 12:40:44,214 - ERROR - downloader - Response status code 403, file https://cdn.discordapp.com/attachments/138194941263216640/433376102480740354/DacN9I8UQAEcFaw.jpg\n",
      "2023-02-04 12:40:44,501 - ERROR - downloader - Response status code 403, file https://preview.redd.it/gjy834bcz0m01.jpg\n"
     ]
    },
    {
     "name": "stdout",
     "output_type": "stream",
     "text": [
      "============================== MINA ==============================\n"
     ]
    },
    {
     "name": "stderr",
     "output_type": "stream",
     "text": [
      "2023-02-04 12:40:56,631 - ERROR - downloader - Response status code 403, file https://preview.redd.it/9jstds98azw21.jpg\n",
      "2023-02-04 12:40:56,894 - ERROR - downloader - Response status code 403, file https://preview.redd.it/x7rg4r9hqlo21.jpg\n",
      "2023-02-04 12:40:57,460 - ERROR - downloader - Response status code 403, file https://www.labelkpop.com/wp-content/uploads/2020/02/twice-mina-16a.jpg\n",
      "2023-02-04 12:40:57,645 - ERROR - downloader - Response status code 403, file https://preview.redd.it/13zfu9hz9j331.jpg\n",
      "2023-02-04 12:40:57,703 - ERROR - downloader - Exception caught when downloading file http://greepx.com/wp-content/uploads/2018/01/1515748864_637_mina-twice.jpg, error: HTTPSConnectionPool(host='greepx.com', port=443): Max retries exceeded with url: /wp-content/uploads/2018/01/1515748864_637_mina-twice.jpg (Caused by SSLError(SSLCertVerificationError(1, '[SSL: CERTIFICATE_VERIFY_FAILED] certificate verify failed: certificate has expired (_ssl.c:1129)'))), remaining retry times: 2\n",
      "2023-02-04 12:40:58,526 - ERROR - downloader - Exception caught when downloading file http://greepx.com/wp-content/uploads/2018/01/1515748864_637_mina-twice.jpg, error: HTTPSConnectionPool(host='greepx.com', port=443): Max retries exceeded with url: /wp-content/uploads/2018/01/1515748864_637_mina-twice.jpg (Caused by SSLError(SSLCertVerificationError(1, '[SSL: CERTIFICATE_VERIFY_FAILED] certificate verify failed: certificate has expired (_ssl.c:1129)'))), remaining retry times: 1\n",
      "2023-02-04 12:40:59,358 - ERROR - downloader - Exception caught when downloading file http://greepx.com/wp-content/uploads/2018/01/1515748864_637_mina-twice.jpg, error: HTTPSConnectionPool(host='greepx.com', port=443): Max retries exceeded with url: /wp-content/uploads/2018/01/1515748864_637_mina-twice.jpg (Caused by SSLError(SSLCertVerificationError(1, '[SSL: CERTIFICATE_VERIFY_FAILED] certificate verify failed: certificate has expired (_ssl.c:1129)'))), remaining retry times: 0\n",
      "2023-02-04 12:40:59,709 - ERROR - downloader - Response status code 403, file https://preview.redd.it/msm6mu0gvo011.jpg\n",
      "2023-02-04 12:40:59,806 - ERROR - downloader - Response status code 404, file https://vignette.wikia.nocookie.net/twice/images/9/90/Mina28.jpg\n"
     ]
    },
    {
     "name": "stdout",
     "output_type": "stream",
     "text": [
      "============================== DAHYUN ==============================\n"
     ]
    },
    {
     "name": "stderr",
     "output_type": "stream",
     "text": [
      "2023-02-04 12:41:17,880 - ERROR - downloader - Response status code 403, file https://external-preview.redd.it/QrP3MG-ObyebwoxdgobGRjmZQkRuy5vmFoGU5Wf0Xfo.jpg\n",
      "2023-02-04 12:41:17,951 - ERROR - downloader - Response status code 403, file https://external-preview.redd.it/lX4CrndF-2MZCXAauDVJP6tCAVBg_KYxKjFeJFFCJjA.jpg\n"
     ]
    },
    {
     "name": "stdout",
     "output_type": "stream",
     "text": [
      "============================== CHAEYOUNG ==============================\n"
     ]
    },
    {
     "name": "stderr",
     "output_type": "stream",
     "text": [
      "2023-02-04 12:41:28,694 - ERROR - downloader - Response status code 403, file https://preview.redd.it/vx03xbhhmw501.jpg\n",
      "2023-02-04 12:41:29,235 - ERROR - downloader - Response status code 403, file https://external-preview.redd.it/ki2-5RIb9bHmKKMqPKtwJMK5lZmDmZA_m_vpbybaY8s.jpg\n",
      "2023-02-04 12:41:29,508 - ERROR - downloader - Response status code 403, file https://external-preview.redd.it/RTlafeHO1M1w43Lv76FiQxCbP7rpVosgBowHEEJm-xM.jpg\n",
      "2023-02-04 12:41:29,546 - ERROR - downloader - Response status code 404, file https://vignette.wikia.nocookie.net/twice/images/f/fd/Son_Chae_Young28.jpg\n",
      "2023-02-04 12:41:31,801 - ERROR - downloader - Response status code 404, file https://vignette.wikia.nocookie.net/twice/images/a/ae/Son_Chae_Young27.jpg\n",
      "2023-02-04 12:41:32,927 - ERROR - downloader - Response status code 403, file https://external-preview.redd.it/p6Pjsvjo3s5p9CZUz3AbwL32nYQlwotBweojuxpCh9o.jpg\n",
      "2023-02-04 12:41:34,567 - ERROR - downloader - Response status code 403, file https://external-preview.redd.it/CVwII90XD7X_INsx66O0txl185OoQErlXydDRGVvrFI.jpg\n"
     ]
    },
    {
     "name": "stdout",
     "output_type": "stream",
     "text": [
      "============================== TZUYU ==============================\n"
     ]
    },
    {
     "name": "stderr",
     "output_type": "stream",
     "text": [
      "2023-02-04 12:41:42,864 - ERROR - downloader - Response status code 404, file https://vignette.wikia.nocookie.net/twice/images/8/87/Tzuyu28.jpg\n",
      "2023-02-04 12:41:43,123 - ERROR - downloader - Response status code 403, file https://preview.redd.it/chdgqk7za7h11.jpg\n",
      "2023-02-04 12:41:45,992 - ERROR - downloader - Response status code 404, file https://vignette.wikia.nocookie.net/drama/images/1/1c/Tzuyu10.jpg\n",
      "2023-02-04 12:41:46,317 - ERROR - downloader - Response status code 404, file https://i.redd.it/25xelsvi83c21.jpg\n",
      "2023-02-04 12:41:49,284 - ERROR - downloader - Response status code 403, file https://external-preview.redd.it/45LwyASeZzH4UfgvcHrzHY6PycaWGX-d7XHeCf4JJig.jpg\n",
      "2023-02-04 12:41:50,026 - ERROR - downloader - Response status code 404, file https://vignette.wikia.nocookie.net/twice/images/7/74/Tzuyu_Eyes_Wide_Open.jpg\n"
     ]
    }
   ],
   "source": [
    "for idx, conf in enumerate(CONFS):\n",
    "    print('='*30 + f' {conf.name} ' + '='*30)\n",
    "    crowler = BingImageCrawler(\n",
    "        downloader_threads=4,\n",
    "        storage={'root_dir': f'{ROOT_DIR}/{conf.dir_name}'},\n",
    "        log_level=logging.ERROR\n",
    "    )\n",
    "    \n",
    "    crowler.crawl(\n",
    "        keyword=conf.keyword,\n",
    "        max_num=DL_IMAGE_NUM\n",
    "    )\n",
    "    \n",
    "print('===== finished!! =====')"
   ]
  },
  {
   "cell_type": "markdown",
   "id": "378df28b-748d-4f6c-a949-8039cb1a889e",
   "metadata": {},
   "source": [
    "## DLした画像の枚数"
   ]
  },
  {
   "cell_type": "code",
   "execution_count": 15,
   "id": "1d0a3b7c-f2e7-407a-a67a-e9562b6643d8",
   "metadata": {},
   "outputs": [
    {
     "data": {
      "text/html": [
       "<div>\n",
       "<style scoped>\n",
       "    .dataframe tbody tr th:only-of-type {\n",
       "        vertical-align: middle;\n",
       "    }\n",
       "\n",
       "    .dataframe tbody tr th {\n",
       "        vertical-align: top;\n",
       "    }\n",
       "\n",
       "    .dataframe thead th {\n",
       "        text-align: right;\n",
       "    }\n",
       "</style>\n",
       "<table border=\"1\" class=\"dataframe\">\n",
       "  <thead>\n",
       "    <tr style=\"text-align: right;\">\n",
       "      <th></th>\n",
       "      <th>image</th>\n",
       "    </tr>\n",
       "    <tr>\n",
       "      <th>name</th>\n",
       "      <th></th>\n",
       "    </tr>\n",
       "  </thead>\n",
       "  <tbody>\n",
       "    <tr>\n",
       "      <th>CHAEYOUNG</th>\n",
       "      <td>66</td>\n",
       "    </tr>\n",
       "    <tr>\n",
       "      <th>DAHYUN</th>\n",
       "      <td>70</td>\n",
       "    </tr>\n",
       "    <tr>\n",
       "      <th>JEONGYEON</th>\n",
       "      <td>61</td>\n",
       "    </tr>\n",
       "    <tr>\n",
       "      <th>JIHYO</th>\n",
       "      <td>70</td>\n",
       "    </tr>\n",
       "    <tr>\n",
       "      <th>MINA</th>\n",
       "      <td>70</td>\n",
       "    </tr>\n",
       "    <tr>\n",
       "      <th>MOMO</th>\n",
       "      <td>82</td>\n",
       "    </tr>\n",
       "    <tr>\n",
       "      <th>NAYEON</th>\n",
       "      <td>70</td>\n",
       "    </tr>\n",
       "    <tr>\n",
       "      <th>SANA</th>\n",
       "      <td>72</td>\n",
       "    </tr>\n",
       "    <tr>\n",
       "      <th>TZUYU</th>\n",
       "      <td>65</td>\n",
       "    </tr>\n",
       "  </tbody>\n",
       "</table>\n",
       "</div>"
      ],
      "text/plain": [
       "           image\n",
       "name            \n",
       "CHAEYOUNG     66\n",
       "DAHYUN        70\n",
       "JEONGYEON     61\n",
       "JIHYO         70\n",
       "MINA          70\n",
       "MOMO          82\n",
       "NAYEON        70\n",
       "SANA          72\n",
       "TZUYU         65"
      ]
     },
     "execution_count": 15,
     "metadata": {},
     "output_type": "execute_result"
    }
   ],
   "source": [
    "images = glob.glob(f'{ROOT_DIR}/**/*', recursive=True)\n",
    "images = [img for img in images if os.path.isfile(img)]\n",
    "names = [os.path.basename(os.path.dirname(img)) for img in images]\n",
    "fnames = [os.path.basename(img) for img in images]\n",
    "\n",
    "df = pd.DataFrame({'name': names, 'image': fnames})\n",
    "df.groupby('name').count()"
   ]
  },
  {
   "cell_type": "code",
   "execution_count": null,
   "id": "cbe847af-3f70-4f87-9a36-6cb285e78d76",
   "metadata": {},
   "outputs": [],
   "source": []
  }
 ],
 "metadata": {
  "kernelspec": {
   "display_name": "Python 3 (ipykernel)",
   "language": "python",
   "name": "python3"
  },
  "language_info": {
   "codemirror_mode": {
    "name": "ipython",
    "version": 3
   },
   "file_extension": ".py",
   "mimetype": "text/x-python",
   "name": "python",
   "nbconvert_exporter": "python",
   "pygments_lexer": "ipython3",
   "version": "3.9.13"
  }
 },
 "nbformat": 4,
 "nbformat_minor": 5
}
