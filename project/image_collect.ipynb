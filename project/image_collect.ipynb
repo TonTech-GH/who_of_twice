{
 "cells": [
  {
   "cell_type": "markdown",
   "id": "0af083e8-fde8-4724-a3a8-c83cc44d4b32",
   "metadata": {},
   "source": [
    "# 必要画像の収集\n",
    "- 画像検索でTwice各メンバーの画像を集める\n",
    "- icrawlerというパッケージを使う\n",
    "    - https://icrawler.readthedocs.io/en/latest/index.html"
   ]
  },
  {
   "cell_type": "code",
   "execution_count": 1,
   "id": "7c04fa96-7f3e-46dd-bd9b-bdb73b1b41de",
   "metadata": {
    "collapsed": true,
    "jupyter": {
     "outputs_hidden": true
    }
   },
   "outputs": [
    {
     "name": "stdout",
     "output_type": "stream",
     "text": [
      "Requirement already satisfied: icrawler in /opt/anaconda3/lib/python3.9/site-packages (0.6.6)\n",
      "Requirement already satisfied: beautifulsoup4>=4.4.1 in /opt/anaconda3/lib/python3.9/site-packages (from icrawler) (4.11.1)\n",
      "Requirement already satisfied: requests>=2.9.1 in /opt/anaconda3/lib/python3.9/site-packages (from icrawler) (2.28.1)\n",
      "Requirement already satisfied: lxml in /opt/anaconda3/lib/python3.9/site-packages (from icrawler) (4.9.1)\n",
      "Requirement already satisfied: Pillow in /opt/anaconda3/lib/python3.9/site-packages (from icrawler) (9.2.0)\n",
      "Requirement already satisfied: six>=1.10.0 in /opt/anaconda3/lib/python3.9/site-packages (from icrawler) (1.16.0)\n",
      "Requirement already satisfied: soupsieve>1.2 in /opt/anaconda3/lib/python3.9/site-packages (from beautifulsoup4>=4.4.1->icrawler) (2.3.1)\n",
      "Requirement already satisfied: certifi>=2017.4.17 in /opt/anaconda3/lib/python3.9/site-packages (from requests>=2.9.1->icrawler) (2022.9.14)\n",
      "Requirement already satisfied: idna<4,>=2.5 in /opt/anaconda3/lib/python3.9/site-packages (from requests>=2.9.1->icrawler) (3.3)\n",
      "Requirement already satisfied: charset-normalizer<3,>=2 in /opt/anaconda3/lib/python3.9/site-packages (from requests>=2.9.1->icrawler) (2.0.4)\n",
      "Requirement already satisfied: urllib3<1.27,>=1.21.1 in /opt/anaconda3/lib/python3.9/site-packages (from requests>=2.9.1->icrawler) (1.26.11)\n",
      "\u001b[33mWARNING: Running pip as the 'root' user can result in broken permissions and conflicting behaviour with the system package manager. It is recommended to use a virtual environment instead: https://pip.pypa.io/warnings/venv\u001b[0m\u001b[33m\n",
      "\u001b[0m"
     ]
    }
   ],
   "source": [
    "!pip install icrawler"
   ]
  },
  {
   "cell_type": "code",
   "execution_count": 1,
   "id": "9880daad-2651-42ce-add6-6b8c234b751e",
   "metadata": {
    "tags": []
   },
   "outputs": [],
   "source": [
    "import logging\n",
    "import os\n",
    "\n",
    "import glob\n",
    "from icrawler.builtin import BingImageCrawler, GoogleImageCrawler, BaiduImageCrawler\n",
    "import pandas as pd\n",
    "import tqdm"
   ]
  },
  {
   "cell_type": "markdown",
   "id": "8d9e4192-1683-409c-8832-eb6d578e1131",
   "metadata": {},
   "source": [
    "## 定数定義"
   ]
  },
  {
   "cell_type": "code",
   "execution_count": 3,
   "id": "5b4311a1-8804-4a2b-8548-20756e54b357",
   "metadata": {
    "tags": []
   },
   "outputs": [],
   "source": [
    "# 定数定義\n",
    "DL_IMAGE_NUM = 500\n",
    "ROOT_DIR = './images/train'\n",
    "\n",
    "class Conf:\n",
    "    def __init__(self, name, keyword):\n",
    "        self.name = name\n",
    "        self.keyword = keyword\n",
    "        \n",
    "    @property\n",
    "    def dir_name(self):\n",
    "        keyword = self.keyword.replace(' ', '_')\n",
    "        return f'{self.name}'\n",
    "\n",
    "CONFS = [\n",
    "    Conf('NAYEON', 'twice NAYEON'),\n",
    "    Conf('JEONGYEON', 'twice JEONGYEON'),\n",
    "    Conf('MOMO', 'twice MOMO'),\n",
    "    Conf('SANA', 'twice SANA'),\n",
    "    Conf('JIHYO', 'twice JIHYO'),\n",
    "    Conf('MINA', 'twice MINA'),\n",
    "    Conf('DAHYUN', 'twice DAHYUN'),\n",
    "    Conf('CHAEYOUNG', 'twice CHAEYOUNG'),\n",
    "    Conf('TZUYU', 'twice TZUYU'),\n",
    "]\n",
    "        "
   ]
  },
  {
   "cell_type": "markdown",
   "id": "2375d4a6-9ed0-4906-acf6-f9ab90ae0b01",
   "metadata": {},
   "source": [
    "## 画像DL"
   ]
  },
  {
   "cell_type": "code",
   "execution_count": 21,
   "id": "2581321d-f9fc-4c02-aa5c-3fce7c803c3c",
   "metadata": {
    "collapsed": true,
    "jupyter": {
     "outputs_hidden": true
    }
   },
   "outputs": [
    {
     "name": "stderr",
     "output_type": "stream",
     "text": [
      "2023-02-13 12:46:02,926 - ERROR - downloader - Response status code 403, file https://wx1.sinaimg.cn/mw690/0062EGt1gy1haaxe9fotog30m80jrb2h.gif\n",
      "2023-02-13 12:46:04,283 - ERROR - downloader - Exception caught when downloading file https://p.favim.com/orig/2019/04/07/tzuyu-tzuyu-gif-twice-tzuyu-Favim.com-7044641.png, error: HTTPSConnectionPool(host='p.favim.com', port=443): Max retries exceeded with url: /orig/2019/04/07/tzuyu-tzuyu-gif-twice-tzuyu-Favim.com-7044641.png (Caused by SSLError(SSLCertVerificationError(1, '[SSL: CERTIFICATE_VERIFY_FAILED] certificate verify failed: unable to get local issuer certificate (_ssl.c:1129)'))), remaining retry times: 2\n",
      "2023-02-13 12:46:04,597 - ERROR - downloader - Exception caught when downloading file https://img13.51tietu.net/pic/2019120906/0dzxurqqnli0dzxurqqnli.jpeg, error: HTTPSConnectionPool(host='img13.51tietu.net', port=443): Max retries exceeded with url: /pic/2019120906/0dzxurqqnli0dzxurqqnli.jpeg (Caused by NewConnectionError('<urllib3.connection.HTTPSConnection object at 0x7f4662675760>: Failed to establish a new connection: [Errno 111] Connection refused')), remaining retry times: 2\n",
      "2023-02-13 12:46:04,624 - ERROR - downloader - Exception caught when downloading file https://img13.51tietu.net/pic/2019120906/0dzxurqqnli0dzxurqqnli.jpeg, error: HTTPSConnectionPool(host='img13.51tietu.net', port=443): Max retries exceeded with url: /pic/2019120906/0dzxurqqnli0dzxurqqnli.jpeg (Caused by NewConnectionError('<urllib3.connection.HTTPSConnection object at 0x7f4662619e50>: Failed to establish a new connection: [Errno 111] Connection refused')), remaining retry times: 1\n",
      "2023-02-13 12:46:04,657 - ERROR - downloader - Exception caught when downloading file https://img13.51tietu.net/pic/2019120906/0dzxurqqnli0dzxurqqnli.jpeg, error: HTTPSConnectionPool(host='img13.51tietu.net', port=443): Max retries exceeded with url: /pic/2019120906/0dzxurqqnli0dzxurqqnli.jpeg (Caused by NewConnectionError('<urllib3.connection.HTTPSConnection object at 0x7f4662619040>: Failed to establish a new connection: [Errno 111] Connection refused')), remaining retry times: 0\n",
      "2023-02-13 12:46:04,766 - ERROR - downloader - Response status code 403, file https://c-ssl.dtstatic.com/uploads/item/201710/04/20171004202706_KMUGh.thumb.1000_0.jpeg\n",
      "2023-02-13 12:46:04,853 - ERROR - downloader - Exception caught when downloading file https://p.favim.com/orig/2019/04/07/tzuyu-tzuyu-gif-twice-tzuyu-Favim.com-7044641.png, error: HTTPSConnectionPool(host='p.favim.com', port=443): Max retries exceeded with url: /orig/2019/04/07/tzuyu-tzuyu-gif-twice-tzuyu-Favim.com-7044641.png (Caused by SSLError(SSLCertVerificationError(1, '[SSL: CERTIFICATE_VERIFY_FAILED] certificate verify failed: unable to get local issuer certificate (_ssl.c:1129)'))), remaining retry times: 1\n",
      "2023-02-13 12:46:04,944 - ERROR - downloader - Response status code 404, file https://xkxqjlzvieat874751.gcdn.ntruss.com/1/2022/7f2e/17f2e191ed1082b7e96f6529a423357904d15fd2d9f60cd352024e5ba3af96bfe_o_st.jpg\n",
      "2023-02-13 12:46:05,482 - ERROR - downloader - Exception caught when downloading file https://p.favim.com/orig/2019/04/07/tzuyu-tzuyu-gif-twice-tzuyu-Favim.com-7044641.png, error: HTTPSConnectionPool(host='p.favim.com', port=443): Max retries exceeded with url: /orig/2019/04/07/tzuyu-tzuyu-gif-twice-tzuyu-Favim.com-7044641.png (Caused by SSLError(SSLCertVerificationError(1, '[SSL: CERTIFICATE_VERIFY_FAILED] certificate verify failed: unable to get local issuer certificate (_ssl.c:1129)'))), remaining retry times: 0\n",
      "2023-02-13 12:46:06,046 - ERROR - downloader - Response status code 404, file https://xkxqjlzvieat874751.gcdn.ntruss.com/2/2021/8dd0/28dd01fbdde838b7878f3f97f7ac09be0f5f411fe08b7ef30416a204600c769c8_o_st.jpg\n",
      "/opt/anaconda3/lib/python3.9/site-packages/PIL/TiffImagePlugin.py:845: UserWarning: Corrupt EXIF data.  Expecting to read 4 bytes but only got 0. \n",
      "  warnings.warn(str(msg))\n",
      "2023-02-13 12:46:07,436 - ERROR - downloader - Response status code 403, file https://c-ssl.dtstatic.com/uploads/item/201704/23/20170423154709_YvCQL.thumb.1000_0.jpeg\n",
      "2023-02-13 12:46:07,826 - ERROR - downloader - Response status code 404, file https://xkxqjlzvieat874751.gcdn.ntruss.com/1/2020/8e1b/18e1b80d800c4714d18a4ab6d8a07d04d9d0cd6c47e2660275f50b3da67668f6b_o_st.jpg\n",
      "2023-02-13 12:46:08,171 - ERROR - downloader - Response status code 404, file https://xkxqjlzvieat874751.gcdn.ntruss.com/1/2022/a683/1a683f3af1ab0b25be8eaf29b262662d34caf83187b328bae2ab72ddd67218950_o_st.jpg\n",
      "2023-02-13 12:46:08,361 - ERROR - downloader - Response status code 403, file https://c-ssl.dtstatic.com/uploads/item/201801/17/20180117003213_hdwjl.thumb.1000_0.jpg\n",
      "2023-02-13 12:46:08,828 - ERROR - downloader - Response status code 404, file https://xkxqjlzvieat874751.gcdn.ntruss.com/2/2020/258f/2258f0374f8793bf33d3b85fa6730e0099968b172270cd922129134195274380c_o_st.jpg\n",
      "2023-02-13 12:46:09,439 - ERROR - downloader - Response status code 404, file https://xkxqjlzvieat874751.gcdn.ntruss.com/1/2021/b346/1b3465e8565bda95e0b1e4b4df59c86aeed83613314168dc74a7d5fb126b09aca_o_st.jpg\n",
      "2023-02-13 12:46:09,656 - ERROR - downloader - Exception caught when downloading file https://c-ssl.dtstatic.com/uploads/item/201708/10/20170810161612_snNwz.thumb.1000_0.jpeg, error: HTTPSConnectionPool(host='c-ssl.dtstatic.com', port=443): Read timed out. (read timeout=5), remaining retry times: 2\n",
      "2023-02-13 12:46:10,821 - ERROR - downloader - Response status code 403, file https://c-ssl.dtstatic.com/uploads/item/201801/17/20180117003153_drfui.thumb.1000_0.jpg\n",
      "2023-02-13 12:46:11,105 - ERROR - downloader - Response status code 403, file https://c-ssl.dtstatic.com/uploads/item/201708/10/20170810161612_snNwz.thumb.1000_0.jpeg\n",
      "2023-02-13 12:46:11,576 - ERROR - downloader - Response status code 403, file https://c-ssl.dtstatic.com/uploads/item/201802/14/20180214024540_kwmdx.thumb.1000_0.jpg\n",
      "2023-02-13 12:46:12,370 - ERROR - downloader - Response status code 404, file https://xkxqjlzvieat874751.gcdn.ntruss.com/1/2022/3c9d/13c9dc54ec53a994bea41fc31066694c7e8a87fe52bf5b2a4832db44ffac8ffc0_o_st.jpg\n",
      "2023-02-13 12:46:12,474 - ERROR - downloader - Response status code 403, file https://auctions.c.yimg.jp/images.auctions.yahoo.co.jp/image/dr000/auc0102/users/0f322a43fc5931a96e33a1a780a18996592f5f1b/i-img900x900-1581911868ppaies221217.jpg?x-oss-process=image/resize,h_750\n",
      "2023-02-13 12:46:13,896 - ERROR - downloader - Response status code 404, file https://xkxqjlzvieat874751.gcdn.ntruss.com/1/2020/b48c/1b48c2ae208b8bae0ccac8eb6861d96e8b956b28e7da996c4001723de6fbb8ef1_o_st.jpg\n",
      "2023-02-13 12:46:15,423 - ERROR - downloader - Exception caught when downloading file https://img13.51tietu.net/pic/2019120906/ru4gukefdctru4gukefdct.jpeg, error: HTTPSConnectionPool(host='img13.51tietu.net', port=443): Max retries exceeded with url: /pic/2019120906/ru4gukefdctru4gukefdct.jpeg (Caused by NewConnectionError('<urllib3.connection.HTTPSConnection object at 0x7f4662675fa0>: Failed to establish a new connection: [Errno 111] Connection refused')), remaining retry times: 2\n",
      "2023-02-13 12:46:15,456 - ERROR - downloader - Exception caught when downloading file https://img13.51tietu.net/pic/2019120906/ru4gukefdctru4gukefdct.jpeg, error: HTTPSConnectionPool(host='img13.51tietu.net', port=443): Max retries exceeded with url: /pic/2019120906/ru4gukefdctru4gukefdct.jpeg (Caused by NewConnectionError('<urllib3.connection.HTTPSConnection object at 0x7f4661b06490>: Failed to establish a new connection: [Errno 111] Connection refused')), remaining retry times: 1\n",
      "2023-02-13 12:46:15,471 - ERROR - downloader - Exception caught when downloading file https://img13.51tietu.net/pic/2019120906/ru4gukefdctru4gukefdct.jpeg, error: HTTPSConnectionPool(host='img13.51tietu.net', port=443): Max retries exceeded with url: /pic/2019120906/ru4gukefdctru4gukefdct.jpeg (Caused by NewConnectionError('<urllib3.connection.HTTPSConnection object at 0x7f46604c0dc0>: Failed to establish a new connection: [Errno 111] Connection refused')), remaining retry times: 0\n",
      "2023-02-13 12:46:16,231 - ERROR - downloader - Exception caught when downloading file https://gimg2.baidu.com/image_search/src=http%3A%2F%2Fc-ssl.duitang.com%2Fuploads%2Fitem%2F202001%2F15%2F20200115203451_dfFZf.jpeg&refer=http%3A%2F%2Fc-ssl.duitang.com&app=2002&size=f9999,10000&q=a80&n=0&g=0n&fmt=auto?sec=1678884368&t=045e9159169fe59a5fcc3bc7c8643687, error: HTTPSConnectionPool(host='gimg2.baidu.com', port=443): Read timed out. (read timeout=5), remaining retry times: 2\n",
      "2023-02-13 12:46:16,254 - ERROR - downloader - Response status code 403, file https://c-ssl.dtstatic.com/uploads/item/202001/15/20200115203610_BjvkQ.thumb.1000_0.jpeg\n",
      "2023-02-13 12:46:16,687 - ERROR - downloader - Response status code 403, file https://ww4.sinaimg.cn/bmiddle/0062EGt1gw1f9p4proorfj30m90xc0xf.jpg\n",
      "2023-02-13 12:46:17,740 - ERROR - downloader - Response status code 404, file https://xkxqjlzvieat874751.gcdn.ntruss.com/1/2020/9b30/19b30f67c493bcff66e21052de5f2a8562a65f2a49af812caec3a0e742177ab2f_o_st.jpg\n",
      "2023-02-13 12:46:17,947 - ERROR - downloader - Response status code 403, file https://auctions.c.yimg.jp/images.auctions.yahoo.co.jp/image/dr000/auc0102/users/0f322a43fc5931a96e33a1a780a18996592f5f1b/i-img900x900-1581911868rf9tqs221217.jpg?x-oss-process=image/resize,h_750\n",
      "2023-02-13 12:46:18,860 - ERROR - downloader - Response status code 404, file https://xkxqjlzvieat874751.gcdn.ntruss.com/1/2022/c7db/1c7dbd59484b1daed4c3e35e36cd7e4edaa43dad4076a44f8142859d082245be1_o_st.jpg\n",
      "2023-02-13 12:46:19,620 - ERROR - downloader - Response status code 404, file https://xkxqjlzvieat874751.gcdn.ntruss.com/2/2020/4e36/24e36986cab0f4c22a02c9df9af4af053150c89c872714d9b3177d60a34385834_o_st.jpg\n",
      "2023-02-13 12:46:19,658 - ERROR - downloader - Exception caught when downloading file https://img13.51tietu.net/pic/2019120907/hfq33pzcscshfq33pzcscs.gif, error: HTTPSConnectionPool(host='img13.51tietu.net', port=443): Max retries exceeded with url: /pic/2019120907/hfq33pzcscshfq33pzcscs.gif (Caused by NewConnectionError('<urllib3.connection.HTTPSConnection object at 0x7f4662675580>: Failed to establish a new connection: [Errno 111] Connection refused')), remaining retry times: 2\n",
      "2023-02-13 12:46:19,675 - ERROR - downloader - Exception caught when downloading file https://img13.51tietu.net/pic/2019120907/hfq33pzcscshfq33pzcscs.gif, error: HTTPSConnectionPool(host='img13.51tietu.net', port=443): Max retries exceeded with url: /pic/2019120907/hfq33pzcscshfq33pzcscs.gif (Caused by NewConnectionError('<urllib3.connection.HTTPSConnection object at 0x7f4662619fa0>: Failed to establish a new connection: [Errno 111] Connection refused')), remaining retry times: 1\n",
      "2023-02-13 12:46:19,692 - ERROR - downloader - Exception caught when downloading file https://img13.51tietu.net/pic/2019120907/hfq33pzcscshfq33pzcscs.gif, error: HTTPSConnectionPool(host='img13.51tietu.net', port=443): Max retries exceeded with url: /pic/2019120907/hfq33pzcscshfq33pzcscs.gif (Caused by NewConnectionError('<urllib3.connection.HTTPSConnection object at 0x7f4661b0aaf0>: Failed to establish a new connection: [Errno 111] Connection refused')), remaining retry times: 0\n",
      "2023-02-13 12:46:20,692 - ERROR - downloader - Response status code 403, file https://ww3.sinaimg.cn/bmiddle/0062EGt1gw1eygx5doaegj30gn0p0jtb.jpg\n",
      "2023-02-13 12:46:23,440 - ERROR - downloader - Exception caught when downloading file https://gimg2.baidu.com/image_search/src=http%3A%2F%2Fc-ssl.duitang.com%2Fuploads%2Fitem%2F201807%2F02%2F20180702231544_upxpw.thumb.400_0.jpg&refer=http%3A%2F%2Fc-ssl.duitang.com&app=2002&size=f9999,10000&q=a80&n=0&g=0n&fmt=auto?sec=1678884373&t=0a005f9c3ba6af67b5ca7886a79df59e, error: HTTPSConnectionPool(host='gimg2.baidu.com', port=443): Read timed out. (read timeout=5), remaining retry times: 2\n",
      "2023-02-13 12:46:25,803 - ERROR - downloader - Exception caught when downloading file https://c-ssl.dtstatic.com/uploads/item/201710/04/20171004202659_4QKhJ.thumb.1000_0.jpeg, error: HTTPSConnectionPool(host='c-ssl.dtstatic.com', port=443): Read timed out. (read timeout=5), remaining retry times: 2\n",
      "2023-02-13 12:46:26,679 - ERROR - downloader - Response status code 404, file https://xkxqjlzvieat874751.gcdn.ntruss.com/2/2022/4b42/24b424f9e6eb98d5ec638c87d19e1f8158e70714f3ec66d9b5ad806c51c5896d4_o_st.jpg\n",
      "2023-02-13 12:46:26,689 - ERROR - downloader - Response status code 403, file https://c-ssl.dtstatic.com/uploads/blog/202203/18/20220318093102_f93f2.thumb.1000_0.jpg\n",
      "2023-02-13 12:46:26,797 - ERROR - downloader - Response status code 404, file https://xkxqjlzvieat874751.gcdn.ntruss.com/2/2022/7eea/27eea18a7af46bcddcedd054ed5ab8bbc2b40a4a28b6c7519bbfc532fb85204ea_o_st.jpg\n",
      "2023-02-13 12:46:27,202 - ERROR - downloader - Response status code 404, file https://xkxqjlzvieat874751.gcdn.ntruss.com/2/2022/3dd5/23dd526825119d585ef10975cbc2230f046aa50dc89fc1415083ad6c22e8e672f_o_st.jpg\n",
      "2023-02-13 12:46:32,004 - ERROR - downloader - Exception caught when downloading file https://c-ssl.dtstatic.com/uploads/item/201710/04/20171004202659_4QKhJ.thumb.1000_0.jpeg, error: HTTPSConnectionPool(host='c-ssl.dtstatic.com', port=443): Read timed out. (read timeout=5), remaining retry times: 1\n",
      "2023-02-13 12:46:32,227 - ERROR - downloader - Response status code 403, file https://c-ssl.dtstatic.com/uploads/item/201710/04/20171004202659_4QKhJ.thumb.1000_0.jpeg\n",
      "2023-02-13 12:46:32,468 - ERROR - downloader - Exception caught when downloading file https://gimg2.baidu.com/image_search/src=http%3A%2F%2Fc-ssl.duitang.com%2Fuploads%2Fitem%2F201608%2F30%2F20160830123215_FzuMT.thumb.400_0.jpeg&refer=http%3A%2F%2Fc-ssl.duitang.com&app=2002&size=f9999,10000&q=a80&n=0&g=0n&fmt=auto?sec=1678884383&t=a160624ae43d58433056e3f6682ea0bd, error: HTTPSConnectionPool(host='gimg2.baidu.com', port=443): Read timed out. (read timeout=5), remaining retry times: 2\n",
      "2023-02-13 12:46:32,549 - ERROR - downloader - Response status code 404, file https://tw.toluna.com/dpolls_images/2017/05/11/9bba7112-bf70-4b49-bd4b-0fbb89d4eb0b_x400.jpg\n",
      "2023-02-13 12:46:33,955 - ERROR - downloader - Response status code 404, file https://xkxqjlzvieat874751.gcdn.ntruss.com/2/2022/4746/24746a94dd3ab90efd04a1dc49f55784bd49725fc80ac3142741cbbff18a3a383_o_st.jpg\n",
      "2023-02-13 12:46:35,692 - ERROR - downloader - Response status code 404, file https://xkxqjlzvieat874751.gcdn.ntruss.com/1/2020/7d8c/17d8c64d983b139c8da601903e2e13b30fc5742df1675f917b2ea07fe37b5f21a_o_st.jpg\n",
      "2023-02-13 12:46:36,202 - ERROR - downloader - Exception caught when downloading file https://img13.51tietu.net/pic/2019120906/miphwgq2nuvmiphwgq2nuv.jpeg, error: HTTPSConnectionPool(host='img13.51tietu.net', port=443): Max retries exceeded with url: /pic/2019120906/miphwgq2nuvmiphwgq2nuv.jpeg (Caused by NewConnectionError('<urllib3.connection.HTTPSConnection object at 0x7f46604c0130>: Failed to establish a new connection: [Errno 111] Connection refused')), remaining retry times: 2\n",
      "2023-02-13 12:46:36,217 - ERROR - downloader - Exception caught when downloading file https://img13.51tietu.net/pic/2019120906/miphwgq2nuvmiphwgq2nuv.jpeg, error: HTTPSConnectionPool(host='img13.51tietu.net', port=443): Max retries exceeded with url: /pic/2019120906/miphwgq2nuvmiphwgq2nuv.jpeg (Caused by NewConnectionError('<urllib3.connection.HTTPSConnection object at 0x7f46622365e0>: Failed to establish a new connection: [Errno 111] Connection refused')), remaining retry times: 1\n",
      "2023-02-13 12:46:36,260 - ERROR - downloader - Exception caught when downloading file https://img13.51tietu.net/pic/2019120906/miphwgq2nuvmiphwgq2nuv.jpeg, error: HTTPSConnectionPool(host='img13.51tietu.net', port=443): Max retries exceeded with url: /pic/2019120906/miphwgq2nuvmiphwgq2nuv.jpeg (Caused by NewConnectionError('<urllib3.connection.HTTPSConnection object at 0x7f4670195d00>: Failed to establish a new connection: [Errno 111] Connection refused')), remaining retry times: 0\n",
      "2023-02-13 12:46:36,448 - ERROR - downloader - Response status code 403, file https://scontent.cdninstagram.com/v/t51.2885-15/e35/s480x480/72917080_2544001838970076_947645600600833762_n.jpg?_nc_ht=scontent-msp1-1.cdninstagram.com&_nc_cat=104&_nc_ohc=VjmPSrnwCXsAX-Hbtzl&oh=bdff30161efca79efaccc58026fe01a9&oe=5E8F8AA0\n",
      "2023-02-13 12:46:37,842 - ERROR - downloader - Exception caught when downloading file https://gimg2.baidu.com/image_search/src=http%3A%2F%2Fc-ssl.duitang.com%2Fuploads%2Fitem%2F201608%2F30%2F20160830123215_FzuMT.thumb.400_0.jpeg&refer=http%3A%2F%2Fc-ssl.duitang.com&app=2002&size=f9999,10000&q=a80&n=0&g=0n&fmt=auto?sec=1678884383&t=a160624ae43d58433056e3f6682ea0bd, error: HTTPSConnectionPool(host='gimg2.baidu.com', port=443): Read timed out. (read timeout=5), remaining retry times: 1\n",
      "2023-02-13 12:46:39,696 - ERROR - downloader - Response status code 404, file https://xkxqjlzvieat874751.gcdn.ntruss.com/2/2022/82a8/282a82e5e2cf5bb8e47e6cd2e2f6c173b5d7133a9ba2407eed8b7efd994e74008_o_st.jpg\n",
      "2023-02-13 12:46:42,827 - ERROR - downloader - Response status code 403, file https://c-ssl.dtstatic.com/uploads/item/202001/15/20200115203744_44A8Q.thumb.1000_0.jpeg\n",
      "2023-02-13 12:46:43,867 - ERROR - downloader - Response status code 403, file https://c-ssl.dtstatic.com/uploads/item/201902/13/20190213173403_ggbqx.thumb.1000_0.jpg\n",
      "2023-02-13 12:46:45,990 - ERROR - downloader - Exception caught when downloading file https://p6.itc.cn/images01/20220501/8e399d367e31479d9b20fe6e025c30e2.jpeg, error: HTTPSConnectionPool(host='p6.itc.cn', port=443): Read timed out. (read timeout=5), remaining retry times: 2\n",
      "2023-02-13 12:46:46,400 - ERROR - downloader - Response status code 404, file https://xkxqjlzvieat874751.gcdn.ntruss.com/1/2022/2c9f/12c9f31dc9476d2c4a9fb6c8c5744b8472d567f2356bed5f5319a8ab90ba4730a_o_st.jpg\n",
      "2023-02-13 12:46:47,905 - ERROR - downloader - Response status code 404, file https://xkxqjlzvieat874751.gcdn.ntruss.com/1/2022/0303/10303b0843e22da194c5827baaf36c9bf9b60128f6489ffd4cf6d1c594d6c5bb7_o_st.jpg\n",
      "2023-02-13 12:46:49,867 - ERROR - downloader - Exception caught when downloading file https://img13.51tietu.net/pic/2019120907/0nfb0zy0dov0nfb0zy0dov.jpeg, error: HTTPSConnectionPool(host='img13.51tietu.net', port=443): Max retries exceeded with url: /pic/2019120907/0nfb0zy0dov0nfb0zy0dov.jpeg (Caused by NewConnectionError('<urllib3.connection.HTTPSConnection object at 0x7f46604c0280>: Failed to establish a new connection: [Errno 111] Connection refused')), remaining retry times: 2\n",
      "2023-02-13 12:46:49,889 - ERROR - downloader - Exception caught when downloading file https://img13.51tietu.net/pic/2019120907/0nfb0zy0dov0nfb0zy0dov.jpeg, error: HTTPSConnectionPool(host='img13.51tietu.net', port=443): Max retries exceeded with url: /pic/2019120907/0nfb0zy0dov0nfb0zy0dov.jpeg (Caused by NewConnectionError('<urllib3.connection.HTTPSConnection object at 0x7f4661fddcd0>: Failed to establish a new connection: [Errno 111] Connection refused')), remaining retry times: 1\n",
      "2023-02-13 12:46:49,908 - ERROR - downloader - Exception caught when downloading file https://img13.51tietu.net/pic/2019120907/0nfb0zy0dov0nfb0zy0dov.jpeg, error: HTTPSConnectionPool(host='img13.51tietu.net', port=443): Max retries exceeded with url: /pic/2019120907/0nfb0zy0dov0nfb0zy0dov.jpeg (Caused by NewConnectionError('<urllib3.connection.HTTPSConnection object at 0x7f4661b0a8e0>: Failed to establish a new connection: [Errno 111] Connection refused')), remaining retry times: 0\n",
      "2023-02-13 12:46:50,211 - ERROR - downloader - Response status code 404, file https://xkxqjlzvieat874751.gcdn.ntruss.com/2/2022/3a78/23a78410515cc86d4fbfa3c4b3592c480c4e098b2e531b69e4dd604b3769a7b9a_o_mv.gif\n",
      "2023-02-13 12:46:50,753 - ERROR - downloader - Response status code 404, file https://xkxqjlzvieat874751.gcdn.ntruss.com/1/2022/992e/1992ea81ce1423e650e972f483d3108dd3f8b8013567ef2d1d425e790a30cb890_o_st.jpg\n",
      "2023-02-13 12:46:51,002 - ERROR - downloader - Response status code 403, file https://c-ssl.dtstatic.com/uploads/item/201807/02/20180702231540_rkrfr.thumb.1000_0.jpg\n",
      "2023-02-13 12:46:51,107 - ERROR - downloader - Exception caught when downloading file https://p6.itc.cn/images01/20220501/8e399d367e31479d9b20fe6e025c30e2.jpeg, error: HTTPSConnectionPool(host='p6.itc.cn', port=443): Read timed out. (read timeout=5), remaining retry times: 1\n",
      "2023-02-13 12:46:52,404 - ERROR - downloader - Exception caught when downloading file https://img13.51tietu.net/pic/2019120907/n2lm1ogpxy0n2lm1ogpxy0.gif, error: HTTPSConnectionPool(host='img13.51tietu.net', port=443): Max retries exceeded with url: /pic/2019120907/n2lm1ogpxy0n2lm1ogpxy0.gif (Caused by NewConnectionError('<urllib3.connection.HTTPSConnection object at 0x7f4662236f40>: Failed to establish a new connection: [Errno 111] Connection refused')), remaining retry times: 2\n",
      "2023-02-13 12:46:52,471 - ERROR - downloader - Exception caught when downloading file https://img13.51tietu.net/pic/2019120907/n2lm1ogpxy0n2lm1ogpxy0.gif, error: HTTPSConnectionPool(host='img13.51tietu.net', port=443): Max retries exceeded with url: /pic/2019120907/n2lm1ogpxy0n2lm1ogpxy0.gif (Caused by NewConnectionError('<urllib3.connection.HTTPSConnection object at 0x7f46619f9f40>: Failed to establish a new connection: [Errno 111] Connection refused')), remaining retry times: 1\n",
      "2023-02-13 12:46:52,553 - ERROR - downloader - Exception caught when downloading file https://img13.51tietu.net/pic/2019120907/n2lm1ogpxy0n2lm1ogpxy0.gif, error: HTTPSConnectionPool(host='img13.51tietu.net', port=443): Max retries exceeded with url: /pic/2019120907/n2lm1ogpxy0n2lm1ogpxy0.gif (Caused by NewConnectionError('<urllib3.connection.HTTPSConnection object at 0x7f46624c01f0>: Failed to establish a new connection: [Errno 111] Connection refused')), remaining retry times: 0\n",
      "2023-02-13 12:46:52,742 - ERROR - downloader - Response status code 403, file https://c-ssl.dtstatic.com/uploads/item/201802/14/20180214024408_wvunv.thumb.1000_0.jpg\n",
      "2023-02-13 12:46:55,292 - ERROR - downloader - Response status code 404, file https://xkxqjlzvieat874751.gcdn.ntruss.com/2/2022/bb21/2bb2177763e8777c4eea3791e4326004813e395654e2ce543baf5617499693917_o_st.jpg\n",
      "2023-02-13 12:46:56,322 - ERROR - downloader - Exception caught when downloading file https://p6.itc.cn/images01/20220501/8e399d367e31479d9b20fe6e025c30e2.jpeg, error: HTTPSConnectionPool(host='p6.itc.cn', port=443): Read timed out. (read timeout=5), remaining retry times: 0\n",
      "2023-02-13 12:46:56,542 - ERROR - downloader - Response status code 403, file https://ww2.sinaimg.cn/bmiddle/0062EGt1gw1f41r9s8lzkg307g09d1kx.gif\n",
      "2023-02-13 12:46:56,790 - ERROR - downloader - Response status code 404, file https://xkxqjlzvieat874751.gcdn.ntruss.com/1/2021/3b51/13b5127fc52a7d51b4a4c683381db13737503565d918491c2ce930b3eef5907d7_o_st.jpg\n",
      "2023-02-13 12:46:57,254 - ERROR - downloader - Response status code 404, file https://xkxqjlzvieat874751.gcdn.ntruss.com/1/2021/34e8/134e8916e9608e964031f2b815923ff4ee15612052d66a3d3768379e9d1f20028_o_st.jpg\n",
      "2023-02-13 12:46:57,653 - ERROR - downloader - Response status code 403, file https://c-ssl.dtstatic.com/uploads/item/201808/13/20180813210601_vhpcm.thumb.1000_0.jpg\n",
      "2023-02-13 12:46:58,073 - ERROR - downloader - Exception caught when downloading file https://img13.51tietu.net/pic/2019120907/w2bqev3bztuw2bqev3bztu.jpeg, error: HTTPSConnectionPool(host='img13.51tietu.net', port=443): Max retries exceeded with url: /pic/2019120907/w2bqev3bztuw2bqev3bztu.jpeg (Caused by NewConnectionError('<urllib3.connection.HTTPSConnection object at 0x7f4662619cd0>: Failed to establish a new connection: [Errno 111] Connection refused')), remaining retry times: 2\n",
      "2023-02-13 12:46:58,111 - ERROR - downloader - Exception caught when downloading file https://img13.51tietu.net/pic/2019120907/w2bqev3bztuw2bqev3bztu.jpeg, error: HTTPSConnectionPool(host='img13.51tietu.net', port=443): Max retries exceeded with url: /pic/2019120907/w2bqev3bztuw2bqev3bztu.jpeg (Caused by NewConnectionError('<urllib3.connection.HTTPSConnection object at 0x7f4662675730>: Failed to establish a new connection: [Errno 111] Connection refused')), remaining retry times: 1\n",
      "2023-02-13 12:46:58,132 - ERROR - downloader - Exception caught when downloading file https://img13.51tietu.net/pic/2019120907/w2bqev3bztuw2bqev3bztu.jpeg, error: HTTPSConnectionPool(host='img13.51tietu.net', port=443): Max retries exceeded with url: /pic/2019120907/w2bqev3bztuw2bqev3bztu.jpeg (Caused by NewConnectionError('<urllib3.connection.HTTPSConnection object at 0x7f466271a790>: Failed to establish a new connection: [Errno 111] Connection refused')), remaining retry times: 0\n",
      "2023-02-13 12:46:58,220 - ERROR - downloader - Response status code 404, file https://xkxqjlzvieat874751.gcdn.ntruss.com/1/2022/2d42/12d42bcbfff88fd0df2bfde7dd9a570fd872bae9486ea1a655ca36913133bb4ff_o_st.jpg\n",
      "2023-02-13 12:46:59,141 - ERROR - downloader - Exception caught when downloading file https://img13.51tietu.net/pic/2019120906/kqzesfommjekqzesfommje.jpeg, error: HTTPSConnectionPool(host='img13.51tietu.net', port=443): Max retries exceeded with url: /pic/2019120906/kqzesfommjekqzesfommje.jpeg (Caused by NewConnectionError('<urllib3.connection.HTTPSConnection object at 0x7f4661fdde50>: Failed to establish a new connection: [Errno 111] Connection refused')), remaining retry times: 2\n",
      "2023-02-13 12:46:59,183 - ERROR - downloader - Exception caught when downloading file https://img13.51tietu.net/pic/2019120906/kqzesfommjekqzesfommje.jpeg, error: HTTPSConnectionPool(host='img13.51tietu.net', port=443): Max retries exceeded with url: /pic/2019120906/kqzesfommjekqzesfommje.jpeg (Caused by NewConnectionError('<urllib3.connection.HTTPSConnection object at 0x7f4662236bb0>: Failed to establish a new connection: [Errno 111] Connection refused')), remaining retry times: 1\n",
      "2023-02-13 12:46:59,231 - ERROR - downloader - Exception caught when downloading file https://img13.51tietu.net/pic/2019120906/kqzesfommjekqzesfommje.jpeg, error: HTTPSConnectionPool(host='img13.51tietu.net', port=443): Max retries exceeded with url: /pic/2019120906/kqzesfommjekqzesfommje.jpeg (Caused by NewConnectionError('<urllib3.connection.HTTPSConnection object at 0x7f4670195d00>: Failed to establish a new connection: [Errno 111] Connection refused')), remaining retry times: 0\n",
      "2023-02-13 12:46:59,322 - ERROR - downloader - Response status code 403, file https://c-ssl.dtstatic.com/uploads/item/201710/24/20171024215658_4uAdw.thumb.1000_0.jpeg\n",
      "2023-02-13 12:46:59,921 - ERROR - downloader - Response status code 404, file https://xkxqjlzvieat874751.gcdn.ntruss.com/1/2020/d15c/1d15c160b11e115deda7f52d944db0d0b314b4524f10dff56e4237507280fa162_o_st.jpg\n",
      "2023-02-13 12:46:59,979 - ERROR - downloader - Response status code 403, file https://auctions.c.yimg.jp/images.auctions.yahoo.co.jp/image/dr000/auc0102/users/0f322a43fc5931a96e33a1a780a18996592f5f1b/i-img900x900-1581910519uhlrhx205187.jpg?x-oss-process=image/resize,h_750\n",
      "2023-02-13 12:47:00,322 - ERROR - downloader - Response status code 403, file https://c-ssl.dtstatic.com/uploads/item/202001/15/20200115203444_Tr2EA.thumb.1000_0.jpeg\n",
      "2023-02-13 12:47:00,709 - ERROR - downloader - Response status code 404, file https://xkxqjlzvieat874751.gcdn.ntruss.com/1/2022/dc59/1dc5964b98a85384c94940683356a677d18e084e67edd2377f278a7e1b4bb3771_o_st.jpg\n",
      "2023-02-13 12:47:00,801 - ERROR - downloader - Response status code 403, file https://c-ssl.dtstatic.com/uploads/item/201710/02/20171002123730_SmYFV.thumb.1000_0.jpeg\n",
      "2023-02-13 12:47:00,969 - ERROR - downloader - Exception caught when downloading file https://p16.flipagramcdn.com/9bcb6053b1b321fe7f05ace9244f49aa-36bc4872a4b6d6f1df7ea0e1defa0db6231ae413_1499506858783-medium.jpg, error: HTTPSConnectionPool(host='p16.flipagramcdn.com', port=443): Max retries exceeded with url: /9bcb6053b1b321fe7f05ace9244f49aa-36bc4872a4b6d6f1df7ea0e1defa0db6231ae413_1499506858783-medium.jpg (Caused by NewConnectionError('<urllib3.connection.HTTPSConnection object at 0x7f466271aa60>: Failed to establish a new connection: [Errno -2] Name or service not known')), remaining retry times: 2\n",
      "2023-02-13 12:47:00,999 - ERROR - downloader - Exception caught when downloading file https://p16.flipagramcdn.com/9bcb6053b1b321fe7f05ace9244f49aa-36bc4872a4b6d6f1df7ea0e1defa0db6231ae413_1499506858783-medium.jpg, error: HTTPSConnectionPool(host='p16.flipagramcdn.com', port=443): Max retries exceeded with url: /9bcb6053b1b321fe7f05ace9244f49aa-36bc4872a4b6d6f1df7ea0e1defa0db6231ae413_1499506858783-medium.jpg (Caused by NewConnectionError('<urllib3.connection.HTTPSConnection object at 0x7f4662675d90>: Failed to establish a new connection: [Errno -2] Name or service not known')), remaining retry times: 1\n",
      "2023-02-13 12:47:01,026 - ERROR - downloader - Exception caught when downloading file https://p16.flipagramcdn.com/9bcb6053b1b321fe7f05ace9244f49aa-36bc4872a4b6d6f1df7ea0e1defa0db6231ae413_1499506858783-medium.jpg, error: HTTPSConnectionPool(host='p16.flipagramcdn.com', port=443): Max retries exceeded with url: /9bcb6053b1b321fe7f05ace9244f49aa-36bc4872a4b6d6f1df7ea0e1defa0db6231ae413_1499506858783-medium.jpg (Caused by NewConnectionError('<urllib3.connection.HTTPSConnection object at 0x7f46619f9790>: Failed to establish a new connection: [Errno -2] Name or service not known')), remaining retry times: 0\n",
      "2023-02-13 12:47:01,443 - ERROR - downloader - Response status code 403, file https://ww1.sinaimg.cn/mw690/8d6247afly1ha03ui0uy8j214n1kwk23.jpg\n",
      "2023-02-13 12:47:01,479 - ERROR - downloader - Exception caught when downloading file https://img13.51tietu.net/pic/2019120906/xahuidvuxp1xahuidvuxp1.jpeg, error: HTTPSConnectionPool(host='img13.51tietu.net', port=443): Max retries exceeded with url: /pic/2019120906/xahuidvuxp1xahuidvuxp1.jpeg (Caused by NewConnectionError('<urllib3.connection.HTTPSConnection object at 0x7f46619f9130>: Failed to establish a new connection: [Errno 111] Connection refused')), remaining retry times: 2\n",
      "2023-02-13 12:47:01,525 - ERROR - downloader - Exception caught when downloading file https://img13.51tietu.net/pic/2019120906/xahuidvuxp1xahuidvuxp1.jpeg, error: HTTPSConnectionPool(host='img13.51tietu.net', port=443): Max retries exceeded with url: /pic/2019120906/xahuidvuxp1xahuidvuxp1.jpeg (Caused by NewConnectionError('<urllib3.connection.HTTPSConnection object at 0x7f46604c02e0>: Failed to establish a new connection: [Errno 111] Connection refused')), remaining retry times: 1\n",
      "2023-02-13 12:47:01,541 - ERROR - downloader - Exception caught when downloading file https://img13.51tietu.net/pic/2019120906/xahuidvuxp1xahuidvuxp1.jpeg, error: HTTPSConnectionPool(host='img13.51tietu.net', port=443): Max retries exceeded with url: /pic/2019120906/xahuidvuxp1xahuidvuxp1.jpeg (Caused by NewConnectionError('<urllib3.connection.HTTPSConnection object at 0x7f4662619a60>: Failed to establish a new connection: [Errno 111] Connection refused')), remaining retry times: 0\n",
      "2023-02-13 12:47:01,995 - ERROR - downloader - Response status code 403, file https://scontent.cdninstagram.com/v/t51.2885-15/e35/s480x480/71955531_154120159170285_800123072903443954_n.jpg?_nc_ht=scontent-msp1-1.cdninstagram.com&_nc_cat=109&_nc_ohc=2VQ05XAS7-AAX9TYtu6&oh=e0a8b9533de20d44e562b7dae1235830&oe=5E9628D6\n",
      "2023-02-13 12:47:02,309 - ERROR - downloader - Response status code 403, file https://ww3.sinaimg.cn/bmiddle/006gd54Igw1f7vrcflutvj30rs15on3d.jpg\n",
      "2023-02-13 12:47:02,339 - ERROR - downloader - Response status code 404, file https://xkxqjlzvieat874751.gcdn.ntruss.com/1/2020/5a93/15a932a97bdf00d232e1abaa2664778aad27febaa3c980d2404affdbbc1204ce8_o_st.jpg\n",
      "2023-02-13 12:47:03,489 - ERROR - downloader - Response status code 403, file https://scontent.cdninstagram.com/v/t51.2885-15/e35/s480x480/74687609_164774541275206_353164988361415216_n.jpg?_nc_ht=scontent-msp1-1.cdninstagram.com&_nc_cat=110&_nc_ohc=-jM5cUk-LzgAX9_OckG&oh=048ae7969de8ee7fd566562035dd6b31&oe=5EB3A08C\n",
      "2023-02-13 12:47:03,996 - ERROR - downloader - Response status code 403, file https://scontent.cdninstagram.com/v/t51.2885-15/e35/s480x480/71797801_180571733125520_3322881894626850458_n.jpg?_nc_ht=scontent-msp1-1.cdninstagram.com&_nc_cat=108&_nc_ohc=LvhIEfCb54oAX8zhPb1&oh=020bd6f376699d4178657866fc55ae29&oe=5E8DFBFF\n",
      "2023-02-13 12:47:05,616 - ERROR - downloader - Response status code 403, file https://c-ssl.dtstatic.com/uploads/item/201707/20/20170720110204_nZHVM.thumb.1000_0.jpeg\n",
      "2023-02-13 12:47:06,070 - ERROR - downloader - Response status code 404, file https://xkxqjlzvieat874751.gcdn.ntruss.com/2/2022/8e30/28e307977bd4c906bf80d427937875e1b1b30240eaed3e60aa1049c8a19344819_o_st.jpg\n",
      "2023-02-13 12:47:07,736 - ERROR - downloader - Response status code 403, file https://c-ssl.dtstatic.com/uploads/item/201609/30/20160930204730_yvUP2.thumb.1000_0.png\n",
      "2023-02-13 12:47:08,036 - ERROR - downloader - Exception caught when downloading file https://img13.51tietu.net/pic/2019120906/s2ngfbdo1tas2ngfbdo1ta.gif, error: HTTPSConnectionPool(host='img13.51tietu.net', port=443): Max retries exceeded with url: /pic/2019120906/s2ngfbdo1tas2ngfbdo1ta.gif (Caused by NewConnectionError('<urllib3.connection.HTTPSConnection object at 0x7f4661b06b80>: Failed to establish a new connection: [Errno 111] Connection refused')), remaining retry times: 2\n",
      "2023-02-13 12:47:08,062 - ERROR - downloader - Exception caught when downloading file https://img13.51tietu.net/pic/2019120906/s2ngfbdo1tas2ngfbdo1ta.gif, error: HTTPSConnectionPool(host='img13.51tietu.net', port=443): Max retries exceeded with url: /pic/2019120906/s2ngfbdo1tas2ngfbdo1ta.gif (Caused by NewConnectionError('<urllib3.connection.HTTPSConnection object at 0x7f4661b06220>: Failed to establish a new connection: [Errno 111] Connection refused')), remaining retry times: 1\n",
      "2023-02-13 12:47:08,150 - ERROR - downloader - Exception caught when downloading file https://img13.51tietu.net/pic/2019120906/s2ngfbdo1tas2ngfbdo1ta.gif, error: HTTPSConnectionPool(host='img13.51tietu.net', port=443): Max retries exceeded with url: /pic/2019120906/s2ngfbdo1tas2ngfbdo1ta.gif (Caused by NewConnectionError('<urllib3.connection.HTTPSConnection object at 0x7f46624823a0>: Failed to establish a new connection: [Errno 111] Connection refused')), remaining retry times: 0\n",
      "2023-02-13 12:47:12,338 - ERROR - downloader - Response status code 403, file https://c-ssl.dtstatic.com/uploads/item/201812/29/20181229185627_nbxuv.thumb.1000_0.jpg\n",
      "2023-02-13 12:47:12,391 - ERROR - downloader - Exception caught when downloading file https://new-img1.bazaar.net.cn/bazaar/129/888/li6RidQeFErc.jpg, error: HTTPSConnectionPool(host='new-img1.bazaar.net.cn', port=443): Max retries exceeded with url: /bazaar/129/888/li6RidQeFErc.jpg (Caused by ConnectTimeoutError(<urllib3.connection.HTTPSConnection object at 0x7f4662236c10>, 'Connection to new-img1.bazaar.net.cn timed out. (connect timeout=5)')), remaining retry times: 2\n",
      "2023-02-13 12:47:12,409 - ERROR - downloader - Exception caught when downloading file https://new-img1.bazaar.net.cn/bazaar/129/888/li6RidQeFErc.jpg, error: HTTPSConnectionPool(host='new-img1.bazaar.net.cn', port=443): Max retries exceeded with url: /bazaar/129/888/li6RidQeFErc.jpg (Caused by NewConnectionError('<urllib3.connection.HTTPSConnection object at 0x7f46604c05b0>: Failed to establish a new connection: [Errno 111] Connection refused')), remaining retry times: 1\n",
      "2023-02-13 12:47:12,471 - ERROR - downloader - Exception caught when downloading file https://new-img1.bazaar.net.cn/bazaar/129/888/li6RidQeFErc.jpg, error: HTTPSConnectionPool(host='new-img1.bazaar.net.cn', port=443): Max retries exceeded with url: /bazaar/129/888/li6RidQeFErc.jpg (Caused by NewConnectionError('<urllib3.connection.HTTPSConnection object at 0x7f4662619a30>: Failed to establish a new connection: [Errno 111] Connection refused')), remaining retry times: 0\n",
      "2023-02-13 12:47:12,703 - ERROR - downloader - Exception caught when downloading file https://img9.51tietu.net/pic/20190918/1ndittnvguw1ndittnvguw.jpg, error: HTTPSConnectionPool(host='img9.51tietu.net', port=443): Max retries exceeded with url: /pic/20190918/1ndittnvguw1ndittnvguw.jpg (Caused by NewConnectionError('<urllib3.connection.HTTPSConnection object at 0x7f4662619df0>: Failed to establish a new connection: [Errno 111] Connection refused')), remaining retry times: 2\n",
      "2023-02-13 12:47:12,722 - ERROR - downloader - Exception caught when downloading file https://img9.51tietu.net/pic/20190918/1ndittnvguw1ndittnvguw.jpg, error: HTTPSConnectionPool(host='img9.51tietu.net', port=443): Max retries exceeded with url: /pic/20190918/1ndittnvguw1ndittnvguw.jpg (Caused by NewConnectionError('<urllib3.connection.HTTPSConnection object at 0x7f46619f96a0>: Failed to establish a new connection: [Errno 111] Connection refused')), remaining retry times: 1\n",
      "2023-02-13 12:47:12,744 - ERROR - downloader - Exception caught when downloading file https://img9.51tietu.net/pic/20190918/1ndittnvguw1ndittnvguw.jpg, error: HTTPSConnectionPool(host='img9.51tietu.net', port=443): Max retries exceeded with url: /pic/20190918/1ndittnvguw1ndittnvguw.jpg (Caused by NewConnectionError('<urllib3.connection.HTTPSConnection object at 0x7f4670195700>: Failed to establish a new connection: [Errno 111] Connection refused')), remaining retry times: 0\n",
      "2023-02-13 12:47:16,003 - ERROR - downloader - Response status code 403, file https://c-ssl.dtstatic.com/uploads/item/201710/02/20171002123905_BdeME.thumb.1000_0.jpeg\n",
      "2023-02-13 12:47:16,055 - ERROR - downloader - Response status code 403, file https://c-ssl.dtstatic.com/uploads/item/201706/25/20170625171140_WLEd8.thumb.1000_0.png\n"
     ]
    }
   ],
   "source": [
    "crawler = BaiduImageCrawler(\n",
    "        downloader_threads=4,\n",
    "        storage={'root_dir': f'{ROOT_DIR}/TZUYU'},\n",
    "    )\n",
    "\n",
    "crawler.crawl(\n",
    "        keyword='twice TZUYU',\n",
    "        max_num=DL_IMAGE_NUM,\n",
    "        offset=500\n",
    "    )"
   ]
  },
  {
   "cell_type": "code",
   "execution_count": 8,
   "id": "852f5b70-9bf8-46eb-a41d-2e6f15134e6f",
   "metadata": {
    "collapsed": true,
    "jupyter": {
     "outputs_hidden": true
    },
    "tags": []
   },
   "outputs": [
    {
     "name": "stdout",
     "output_type": "stream",
     "text": [
      "============================== TZUYU ==============================\n"
     ]
    },
    {
     "name": "stderr",
     "output_type": "stream",
     "text": [
      "2023-02-13 12:34:18,489 - ERROR - downloader - Response status code 403, file https://preview.redd.it/160522-tzuyu-dahyun-v0-745f614zz6ha1.jpg\n",
      "2023-02-13 12:34:18,598 - ERROR - downloader - Response status code 404, file http://image1.shopserve.jp/twice9.jp/pic-labo/llimg/twitk027.jpg\n",
      "2023-02-13 12:34:18,605 - ERROR - downloader - Response status code 404, file https://image1.shopserve.jp/twice9.jp/pic-labo/llimg/twitk136.jpg\n",
      "2023-02-13 12:34:18,798 - ERROR - downloader - Response status code 403, file https://preview.redd.it/230209-tzuyu-v0-vf8344rackha1.jpg\n",
      "2023-02-13 12:34:18,826 - ERROR - downloader - Response status code 403, file https://preview.redd.it/230209-tzuyu-instagram-update-yum-yum-v0-igy0s7he26ha1.jpg\n",
      "2023-02-13 12:34:18,839 - ERROR - downloader - Response status code 404, file https://shop.r10s.jp/k-pop-g/cabinet/16/twtm0007_01.jpg\n",
      "2023-02-13 12:34:18,979 - ERROR - downloader - Response status code 404, file https://shop.r10s.jp/k-pop-g/cabinet/23/twtm0010.jpg\n",
      "2023-02-13 12:34:19,126 - ERROR - downloader - Response status code 404, file http://image1.shopserve.jp/twice9.jp/pic-labo/llimg/twitk030.jpg\n",
      "2023-02-13 12:34:19,196 - ERROR - downloader - Response status code 404, file http://image1.shopserve.jp/twice9.jp/pic-labo/llimg/twitk034.jpg\n",
      "2023-02-13 12:34:19,244 - ERROR - downloader - Response status code 404, file http://image1.shopserve.jp/twice9.jp/pic-labo/llimg/twitk035.jpg\n",
      "2023-02-13 12:34:19,248 - ERROR - downloader - Response status code 404, file https://image1.shopserve.jp/twice9.jp/pic-labo/llimg/twitk138.jpg\n",
      "2023-02-13 12:34:19,435 - ERROR - downloader - Response status code 403, file https://preview.redd.it/180111-tzuyu-v0-hhyq4lw4tdea1.jpg\n",
      "2023-02-13 12:34:19,446 - ERROR - downloader - Response status code 403, file https://preview.redd.it/211114-tzuyu-v0-rme362qm3nea1.jpg\n",
      "2023-02-13 12:34:19,470 - ERROR - downloader - Response status code 403, file https://preview.redd.it/220224-tzuyu-v0-pq2dfbxa40ha1.jpg\n",
      "2023-02-13 12:34:19,713 - ERROR - downloader - Response status code 403, file https://preview.redd.it/220224-tzuyu-v0-qqpk381b40ha1.jpg\n",
      "2023-02-13 12:34:19,715 - ERROR - downloader - Response status code 403, file https://preview.redd.it/mina-twice-v0-sr1jdrwz0gha1.jpg\n",
      "2023-02-13 12:34:19,958 - ERROR - downloader - Response status code 403, file https://preview.redd.it/210609-tzuyu-v0-twshgkxzl7ha1.jpg\n",
      "2023-02-13 12:34:19,976 - ERROR - downloader - Response status code 403, file https://preview.redd.it/tzuyu-playing-baseball-v0-r3z38s0gtfha1.jpg\n"
     ]
    },
    {
     "name": "stdout",
     "output_type": "stream",
     "text": [
      "===== finished!! =====\n"
     ]
    }
   ],
   "source": [
    "for idx, conf in enumerate(CONFS):\n",
    "    print('='*30 + f' {conf.name} ' + '='*30)\n",
    "    crawler = BingImageCrawler(\n",
    "        downloader_threads=4,\n",
    "        storage={'root_dir': f'{ROOT_DIR}/{conf.dir_name}'},\n",
    "        log_level=logging.ERROR\n",
    "    )\n",
    "\n",
    "    crawler.crawl(\n",
    "        keyword=conf.keyword,\n",
    "        max_num=DL_IMAGE_NUM\n",
    "    )\n",
    "    \n",
    "print('===== finished!! =====')"
   ]
  },
  {
   "cell_type": "markdown",
   "id": "378df28b-748d-4f6c-a949-8039cb1a889e",
   "metadata": {},
   "source": [
    "## DLした画像の枚数"
   ]
  },
  {
   "cell_type": "code",
   "execution_count": 4,
   "id": "1d0a3b7c-f2e7-407a-a67a-e9562b6643d8",
   "metadata": {
    "tags": []
   },
   "outputs": [
    {
     "data": {
      "text/html": [
       "<div>\n",
       "<style scoped>\n",
       "    .dataframe tbody tr th:only-of-type {\n",
       "        vertical-align: middle;\n",
       "    }\n",
       "\n",
       "    .dataframe tbody tr th {\n",
       "        vertical-align: top;\n",
       "    }\n",
       "\n",
       "    .dataframe thead th {\n",
       "        text-align: right;\n",
       "    }\n",
       "</style>\n",
       "<table border=\"1\" class=\"dataframe\">\n",
       "  <thead>\n",
       "    <tr style=\"text-align: right;\">\n",
       "      <th></th>\n",
       "      <th>image</th>\n",
       "    </tr>\n",
       "    <tr>\n",
       "      <th>name</th>\n",
       "      <th></th>\n",
       "    </tr>\n",
       "  </thead>\n",
       "  <tbody>\n",
       "    <tr>\n",
       "      <th>CHAEYOUNG</th>\n",
       "      <td>258</td>\n",
       "    </tr>\n",
       "    <tr>\n",
       "      <th>DAHYUN</th>\n",
       "      <td>231</td>\n",
       "    </tr>\n",
       "    <tr>\n",
       "      <th>JEONGYEON</th>\n",
       "      <td>243</td>\n",
       "    </tr>\n",
       "    <tr>\n",
       "      <th>JIHYO</th>\n",
       "      <td>243</td>\n",
       "    </tr>\n",
       "    <tr>\n",
       "      <th>MINA</th>\n",
       "      <td>225</td>\n",
       "    </tr>\n",
       "    <tr>\n",
       "      <th>MOMO</th>\n",
       "      <td>265</td>\n",
       "    </tr>\n",
       "    <tr>\n",
       "      <th>NAYEON</th>\n",
       "      <td>255</td>\n",
       "    </tr>\n",
       "    <tr>\n",
       "      <th>SANA</th>\n",
       "      <td>243</td>\n",
       "    </tr>\n",
       "    <tr>\n",
       "      <th>TZUYU</th>\n",
       "      <td>335</td>\n",
       "    </tr>\n",
       "  </tbody>\n",
       "</table>\n",
       "</div>"
      ],
      "text/plain": [
       "           image\n",
       "name            \n",
       "CHAEYOUNG    258\n",
       "DAHYUN       231\n",
       "JEONGYEON    243\n",
       "JIHYO        243\n",
       "MINA         225\n",
       "MOMO         265\n",
       "NAYEON       255\n",
       "SANA         243\n",
       "TZUYU        335"
      ]
     },
     "execution_count": 4,
     "metadata": {},
     "output_type": "execute_result"
    }
   ],
   "source": [
    "from image_util import ImageUtil\n",
    "img_util = ImageUtil(ROOT_DIR)\n",
    "img_util.count_images()"
   ]
  },
  {
   "cell_type": "markdown",
   "id": "239498df-52e0-43f7-9ed6-050cea72097d",
   "metadata": {},
   "source": [
    "## DLした画像を学習用と検証用にわける"
   ]
  },
  {
   "cell_type": "code",
   "execution_count": 1,
   "id": "67d75d87-5fa5-4b69-a7f0-fd9a78006044",
   "metadata": {
    "tags": []
   },
   "outputs": [],
   "source": [
    "from image_util import ImageUtil"
   ]
  },
  {
   "cell_type": "code",
   "execution_count": 4,
   "id": "20580d25-9682-48e6-aa26-4734a163fef0",
   "metadata": {
    "tags": []
   },
   "outputs": [
    {
     "data": {
      "text/html": [
       "<div>\n",
       "<style scoped>\n",
       "    .dataframe tbody tr th:only-of-type {\n",
       "        vertical-align: middle;\n",
       "    }\n",
       "\n",
       "    .dataframe tbody tr th {\n",
       "        vertical-align: top;\n",
       "    }\n",
       "\n",
       "    .dataframe thead th {\n",
       "        text-align: right;\n",
       "    }\n",
       "</style>\n",
       "<table border=\"1\" class=\"dataframe\">\n",
       "  <thead>\n",
       "    <tr style=\"text-align: right;\">\n",
       "      <th></th>\n",
       "      <th>image</th>\n",
       "    </tr>\n",
       "    <tr>\n",
       "      <th>name</th>\n",
       "      <th></th>\n",
       "    </tr>\n",
       "  </thead>\n",
       "  <tbody>\n",
       "    <tr>\n",
       "      <th>CHAEYOUNG</th>\n",
       "      <td>191</td>\n",
       "    </tr>\n",
       "    <tr>\n",
       "      <th>DAHYUN</th>\n",
       "      <td>170</td>\n",
       "    </tr>\n",
       "    <tr>\n",
       "      <th>JEONGYEON</th>\n",
       "      <td>166</td>\n",
       "    </tr>\n",
       "    <tr>\n",
       "      <th>JIHYO</th>\n",
       "      <td>173</td>\n",
       "    </tr>\n",
       "    <tr>\n",
       "      <th>MINA</th>\n",
       "      <td>166</td>\n",
       "    </tr>\n",
       "    <tr>\n",
       "      <th>MOMO</th>\n",
       "      <td>164</td>\n",
       "    </tr>\n",
       "    <tr>\n",
       "      <th>NAYEON</th>\n",
       "      <td>167</td>\n",
       "    </tr>\n",
       "    <tr>\n",
       "      <th>SANA</th>\n",
       "      <td>156</td>\n",
       "    </tr>\n",
       "    <tr>\n",
       "      <th>TZUYU</th>\n",
       "      <td>155</td>\n",
       "    </tr>\n",
       "  </tbody>\n",
       "</table>\n",
       "</div>"
      ],
      "text/plain": [
       "           image\n",
       "name            \n",
       "CHAEYOUNG    191\n",
       "DAHYUN       170\n",
       "JEONGYEON    166\n",
       "JIHYO        173\n",
       "MINA         166\n",
       "MOMO         164\n",
       "NAYEON       167\n",
       "SANA         156\n",
       "TZUYU        155"
      ]
     },
     "execution_count": 4,
     "metadata": {},
     "output_type": "execute_result"
    }
   ],
   "source": [
    "ROOT_DIR = './images_faces/train'\n",
    "VALID_DIR = './images_faces/valid'\n",
    "\n",
    "util = ImageUtil(ROOT_DIR)\n",
    "util.count_images()"
   ]
  },
  {
   "cell_type": "code",
   "execution_count": null,
   "id": "2f63cae3-f2d6-42e9-b5c9-db90539cc66c",
   "metadata": {
    "tags": []
   },
   "outputs": [],
   "source": [
    "util.train_test_split(test_dir=VALID_DIR)"
   ]
  },
  {
   "cell_type": "code",
   "execution_count": 6,
   "id": "1f60ff32-1454-4e05-9e29-703141c8047c",
   "metadata": {
    "tags": []
   },
   "outputs": [
    {
     "data": {
      "text/html": [
       "<div>\n",
       "<style scoped>\n",
       "    .dataframe tbody tr th:only-of-type {\n",
       "        vertical-align: middle;\n",
       "    }\n",
       "\n",
       "    .dataframe tbody tr th {\n",
       "        vertical-align: top;\n",
       "    }\n",
       "\n",
       "    .dataframe thead th {\n",
       "        text-align: right;\n",
       "    }\n",
       "</style>\n",
       "<table border=\"1\" class=\"dataframe\">\n",
       "  <thead>\n",
       "    <tr style=\"text-align: right;\">\n",
       "      <th></th>\n",
       "      <th>image</th>\n",
       "    </tr>\n",
       "    <tr>\n",
       "      <th>name</th>\n",
       "      <th></th>\n",
       "    </tr>\n",
       "  </thead>\n",
       "  <tbody>\n",
       "    <tr>\n",
       "      <th>CHAEYOUNG</th>\n",
       "      <td>153</td>\n",
       "    </tr>\n",
       "    <tr>\n",
       "      <th>DAHYUN</th>\n",
       "      <td>136</td>\n",
       "    </tr>\n",
       "    <tr>\n",
       "      <th>JEONGYEON</th>\n",
       "      <td>133</td>\n",
       "    </tr>\n",
       "    <tr>\n",
       "      <th>JIHYO</th>\n",
       "      <td>138</td>\n",
       "    </tr>\n",
       "    <tr>\n",
       "      <th>MINA</th>\n",
       "      <td>133</td>\n",
       "    </tr>\n",
       "    <tr>\n",
       "      <th>MOMO</th>\n",
       "      <td>131</td>\n",
       "    </tr>\n",
       "    <tr>\n",
       "      <th>NAYEON</th>\n",
       "      <td>133</td>\n",
       "    </tr>\n",
       "    <tr>\n",
       "      <th>SANA</th>\n",
       "      <td>125</td>\n",
       "    </tr>\n",
       "    <tr>\n",
       "      <th>TZUYU</th>\n",
       "      <td>124</td>\n",
       "    </tr>\n",
       "  </tbody>\n",
       "</table>\n",
       "</div>"
      ],
      "text/plain": [
       "           image\n",
       "name            \n",
       "CHAEYOUNG    153\n",
       "DAHYUN       136\n",
       "JEONGYEON    133\n",
       "JIHYO        138\n",
       "MINA         133\n",
       "MOMO         131\n",
       "NAYEON       133\n",
       "SANA         125\n",
       "TZUYU        124"
      ]
     },
     "execution_count": 6,
     "metadata": {},
     "output_type": "execute_result"
    }
   ],
   "source": [
    "util.count_images()"
   ]
  },
  {
   "cell_type": "code",
   "execution_count": 7,
   "id": "c179de25-7d10-4302-8743-8e04bf67b026",
   "metadata": {
    "tags": []
   },
   "outputs": [
    {
     "data": {
      "text/html": [
       "<div>\n",
       "<style scoped>\n",
       "    .dataframe tbody tr th:only-of-type {\n",
       "        vertical-align: middle;\n",
       "    }\n",
       "\n",
       "    .dataframe tbody tr th {\n",
       "        vertical-align: top;\n",
       "    }\n",
       "\n",
       "    .dataframe thead th {\n",
       "        text-align: right;\n",
       "    }\n",
       "</style>\n",
       "<table border=\"1\" class=\"dataframe\">\n",
       "  <thead>\n",
       "    <tr style=\"text-align: right;\">\n",
       "      <th></th>\n",
       "      <th>image</th>\n",
       "    </tr>\n",
       "    <tr>\n",
       "      <th>name</th>\n",
       "      <th></th>\n",
       "    </tr>\n",
       "  </thead>\n",
       "  <tbody>\n",
       "    <tr>\n",
       "      <th>CHAEYOUNG</th>\n",
       "      <td>38</td>\n",
       "    </tr>\n",
       "    <tr>\n",
       "      <th>DAHYUN</th>\n",
       "      <td>34</td>\n",
       "    </tr>\n",
       "    <tr>\n",
       "      <th>JEONGYEON</th>\n",
       "      <td>33</td>\n",
       "    </tr>\n",
       "    <tr>\n",
       "      <th>JIHYO</th>\n",
       "      <td>35</td>\n",
       "    </tr>\n",
       "    <tr>\n",
       "      <th>MINA</th>\n",
       "      <td>33</td>\n",
       "    </tr>\n",
       "    <tr>\n",
       "      <th>MOMO</th>\n",
       "      <td>33</td>\n",
       "    </tr>\n",
       "    <tr>\n",
       "      <th>NAYEON</th>\n",
       "      <td>34</td>\n",
       "    </tr>\n",
       "    <tr>\n",
       "      <th>SANA</th>\n",
       "      <td>31</td>\n",
       "    </tr>\n",
       "    <tr>\n",
       "      <th>TZUYU</th>\n",
       "      <td>31</td>\n",
       "    </tr>\n",
       "  </tbody>\n",
       "</table>\n",
       "</div>"
      ],
      "text/plain": [
       "           image\n",
       "name            \n",
       "CHAEYOUNG     38\n",
       "DAHYUN        34\n",
       "JEONGYEON     33\n",
       "JIHYO         35\n",
       "MINA          33\n",
       "MOMO          33\n",
       "NAYEON        34\n",
       "SANA          31\n",
       "TZUYU         31"
      ]
     },
     "execution_count": 7,
     "metadata": {},
     "output_type": "execute_result"
    }
   ],
   "source": [
    "util_valid = ImageUtil(VALID_DIR)\n",
    "util_valid.count_images()"
   ]
  },
  {
   "cell_type": "code",
   "execution_count": 8,
   "id": "51bcf79f-8933-41f5-8b80-0c3e018dbaf1",
   "metadata": {
    "tags": []
   },
   "outputs": [
    {
     "data": {
      "text/html": [
       "<div>\n",
       "<style scoped>\n",
       "    .dataframe tbody tr th:only-of-type {\n",
       "        vertical-align: middle;\n",
       "    }\n",
       "\n",
       "    .dataframe tbody tr th {\n",
       "        vertical-align: top;\n",
       "    }\n",
       "\n",
       "    .dataframe thead th {\n",
       "        text-align: right;\n",
       "    }\n",
       "</style>\n",
       "<table border=\"1\" class=\"dataframe\">\n",
       "  <thead>\n",
       "    <tr style=\"text-align: right;\">\n",
       "      <th></th>\n",
       "      <th>image</th>\n",
       "    </tr>\n",
       "    <tr>\n",
       "      <th>name</th>\n",
       "      <th></th>\n",
       "    </tr>\n",
       "  </thead>\n",
       "  <tbody>\n",
       "  </tbody>\n",
       "</table>\n",
       "</div>"
      ],
      "text/plain": [
       "Empty DataFrame\n",
       "Columns: [image]\n",
       "Index: []"
      ]
     },
     "execution_count": 8,
     "metadata": {},
     "output_type": "execute_result"
    }
   ],
   "source": [
    "ImageUtil('./images/valid').count_images()"
   ]
  },
  {
   "cell_type": "code",
   "execution_count": null,
   "id": "d71d4b4c-ff08-40c4-a51e-e2a1b962e253",
   "metadata": {
    "collapsed": true,
    "jupyter": {
     "outputs_hidden": true
    }
   },
   "outputs": [],
   "source": []
  }
 ],
 "metadata": {
  "kernelspec": {
   "display_name": "Python 3 (ipykernel)",
   "language": "python",
   "name": "python3"
  },
  "language_info": {
   "codemirror_mode": {
    "name": "ipython",
    "version": 3
   },
   "file_extension": ".py",
   "mimetype": "text/x-python",
   "name": "python",
   "nbconvert_exporter": "python",
   "pygments_lexer": "ipython3",
   "version": "3.9.13"
  }
 },
 "nbformat": 4,
 "nbformat_minor": 5
}
